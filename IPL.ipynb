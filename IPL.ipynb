{
 "cells": [
  {
   "cell_type": "code",
   "execution_count": 1,
   "metadata": {
    "collapsed": true
   },
   "outputs": [],
   "source": [
    "import numpy as np\n",
    "import matplotlib.pyplot as plt\n",
    "import pandas as pd"
   ]
  },
  {
   "cell_type": "code",
   "execution_count": 2,
   "metadata": {},
   "outputs": [],
   "source": [
    "ball = pd.read_csv('ball_by_ball_data.csv')\n",
    "matches = pd.read_csv('match_data.csv')\n",
    "player = pd.read_csv('player_rosters.csv')"
   ]
  },
  {
   "cell_type": "code",
   "execution_count": 3,
   "metadata": {},
   "outputs": [
    {
     "name": "stdout",
     "output_type": "stream",
     "text": [
      "30\n"
     ]
    }
   ],
   "source": [
    "#Total venues played.\n",
    "print(matches['city'].nunique()) "
   ]
  },
  {
   "cell_type": "code",
   "execution_count": 4,
   "metadata": {},
   "outputs": [
    {
     "name": "stdout",
     "output_type": "stream",
     "text": [
      "44\n"
     ]
    }
   ],
   "source": [
    "#total umpires.\n",
    "print(matches['umpire1'].nunique()) "
   ]
  },
  {
   "cell_type": "code",
   "execution_count": 5,
   "metadata": {},
   "outputs": [
    {
     "name": "stdout",
     "output_type": "stream",
     "text": [
      "Chris Gayle\n"
     ]
    }
   ],
   "source": [
    "#most man of the match awards.\n",
    "print((matches['player_of_match'].value_counts()).idxmax()) "
   ]
  },
  {
   "cell_type": "code",
   "execution_count": 6,
   "metadata": {},
   "outputs": [
    {
     "name": "stdout",
     "output_type": "stream",
     "text": [
      "MI\n"
     ]
    }
   ],
   "source": [
    "#the highest number of match wins.\n",
    "print(((matches['winner']).value_counts()).idxmax()) "
   ]
  },
  {
   "cell_type": "code",
   "execution_count": 7,
   "metadata": {},
   "outputs": [
    {
     "data": {
      "text/html": [
       "<div>\n",
       "<style>\n",
       "    .dataframe thead tr:only-child th {\n",
       "        text-align: right;\n",
       "    }\n",
       "\n",
       "    .dataframe thead th {\n",
       "        text-align: left;\n",
       "    }\n",
       "\n",
       "    .dataframe tbody tr th {\n",
       "        vertical-align: top;\n",
       "    }\n",
       "</style>\n",
       "<table border=\"1\" class=\"dataframe\">\n",
       "  <thead>\n",
       "    <tr style=\"text-align: right;\">\n",
       "      <th></th>\n",
       "      <th>season</th>\n",
       "      <th>team1_id</th>\n",
       "      <th>team2_id</th>\n",
       "      <th>winner</th>\n",
       "      <th>win_by_runs</th>\n",
       "    </tr>\n",
       "  </thead>\n",
       "  <tbody>\n",
       "    <tr>\n",
       "      <th>620</th>\n",
       "      <td>2017</td>\n",
       "      <td>MI</td>\n",
       "      <td>DD</td>\n",
       "      <td>MI</td>\n",
       "      <td>146</td>\n",
       "    </tr>\n",
       "  </tbody>\n",
       "</table>\n",
       "</div>"
      ],
      "text/plain": [
       "     season team1_id team2_id winner  win_by_runs\n",
       "620    2017       MI       DD     MI          146"
      ]
     },
     "execution_count": 7,
     "metadata": {},
     "output_type": "execute_result"
    }
   ],
   "source": [
    "#max win by runs.\n",
    "df=matches.iloc[[matches['win_by_runs'].idxmax()]]\n",
    "df[['season','team1_id','team2_id','winner','win_by_runs']]"
   ]
  },
  {
   "cell_type": "code",
   "execution_count": 8,
   "metadata": {},
   "outputs": [
    {
     "data": {
      "text/html": [
       "<div>\n",
       "<style>\n",
       "    .dataframe thead tr:only-child th {\n",
       "        text-align: right;\n",
       "    }\n",
       "\n",
       "    .dataframe thead th {\n",
       "        text-align: left;\n",
       "    }\n",
       "\n",
       "    .dataframe tbody tr th {\n",
       "        vertical-align: top;\n",
       "    }\n",
       "</style>\n",
       "<table border=\"1\" class=\"dataframe\">\n",
       "  <thead>\n",
       "    <tr style=\"text-align: right;\">\n",
       "      <th></th>\n",
       "      <th>season</th>\n",
       "      <th>team1_id</th>\n",
       "      <th>team2_id</th>\n",
       "      <th>winner</th>\n",
       "      <th>win_by_wickets</th>\n",
       "    </tr>\n",
       "  </thead>\n",
       "  <tbody>\n",
       "    <tr>\n",
       "      <th>12</th>\n",
       "      <td>2008</td>\n",
       "      <td>MI</td>\n",
       "      <td>DC</td>\n",
       "      <td>DC</td>\n",
       "      <td>10</td>\n",
       "    </tr>\n",
       "  </tbody>\n",
       "</table>\n",
       "</div>"
      ],
      "text/plain": [
       "    season team1_id team2_id winner  win_by_wickets\n",
       "12    2008       MI       DC     DC              10"
      ]
     },
     "execution_count": 8,
     "metadata": {},
     "output_type": "execute_result"
    }
   ],
   "source": [
    "#max win by wicket.\n",
    "df=matches.iloc[[matches['win_by_wickets'].idxmax()]]\n",
    "df[['season','team1_id','team2_id','winner','win_by_wickets']]"
   ]
  },
  {
   "cell_type": "code",
   "execution_count": 9,
   "metadata": {},
   "outputs": [
    {
     "data": {
      "text/plain": [
       "field    56.985871\n",
       "bat      42.857143\n",
       "Name: toss_decision, dtype: float64"
      ]
     },
     "execution_count": 9,
     "metadata": {},
     "output_type": "execute_result"
    }
   ],
   "source": [
    "#% of team opting batting / fielding.\n",
    "(matches['toss_decision']).value_counts()/637*100  "
   ]
  },
  {
   "cell_type": "code",
   "execution_count": 10,
   "metadata": {
    "collapsed": true
   },
   "outputs": [],
   "source": [
    "import seaborn as sns"
   ]
  },
  {
   "cell_type": "code",
   "execution_count": 11,
   "metadata": {},
   "outputs": [
    {
     "data": {
      "image/png": "[encoded data removed]",
      "text/plain": [
       "<matplotlib.figure.Figure at 0xefa9f67940>"
      ]
     },
     "metadata": {},
     "output_type": "display_data"
    }
   ],
   "source": [
    "#team wise toss winer.\n",
    "plt.subplots(figsize=(15,8))\n",
    "ax=(matches['toss_winner'].value_counts()).plot.bar(width=0.8)\n",
    "for p in ax.patches:\n",
    "    ax.annotate(format(p.get_height()), (p.get_x()+0.15, p.get_height()+1))\n",
    "plt.show()"
   ]
  },
  {
   "cell_type": "code",
   "execution_count": 12,
   "metadata": {},
   "outputs": [
    {
     "data": {
      "text/plain": [
       "CSK    63.636364\n",
       "DC     44.186047\n",
       "DD     45.833333\n",
       "GL     66.666667\n",
       "KKR    56.410256\n",
       "KTK    50.000000\n",
       "KXI    41.176471\n",
       "MI     56.470588\n",
       "PW     15.000000\n",
       "RCB    50.000000\n",
       "RPS    61.538462\n",
       "RR     53.968254\n",
       "SRH    48.571429\n",
       "dtype: float64"
      ]
     },
     "execution_count": 12,
     "metadata": {},
     "output_type": "execute_result"
    }
   ],
   "source": [
    "#team wise % of toss and match winner. \n",
    "matches[matches['toss_winner']==matches['winner']]['winner'].value_counts()/matches['toss_winner'].value_counts()*100"
   ]
  },
  {
   "cell_type": "code",
   "execution_count": 13,
   "metadata": {},
   "outputs": [
    {
     "data": {
      "image/png": "[encoded data removed]",
      "text/plain": [
       "<matplotlib.figure.Figure at 0xefa9f67518>"
      ]
     },
     "metadata": {},
     "output_type": "display_data"
    }
   ],
   "source": [
    "#matches season wises.\n",
    "plt.subplots(figsize=(15,8))\n",
    "sns.countplot(x='season',data=matches,palette=\"Set1\")  \n",
    "plt.show()"
   ]
  },
  {
   "cell_type": "code",
   "execution_count": 14,
   "metadata": {},
   "outputs": [
    {
     "data": {
      "text/plain": [
       "season\n",
       "2008    16809\n",
       "2009    15376\n",
       "2010    17754\n",
       "2011    19928\n",
       "2012    21322\n",
       "2013    21487\n",
       "2014    17943\n",
       "2015    17427\n",
       "2016    17963\n",
       "2017    17920\n",
       "Name: batsman_runs, dtype: int64"
      ]
     },
     "execution_count": 14,
     "metadata": {},
     "output_type": "execute_result"
    }
   ],
   "source": [
    "#runs each season.\n",
    "batsmen = matches[['match_id','season']].merge(ball, left_on = 'match_id', right_on = 'match_id', how = 'left')\n",
    "runs_each_season=batsmen.groupby(['season'])['batsman_runs'].sum()\n",
    "runs_each_season "
   ]
  },
  {
   "cell_type": "code",
   "execution_count": 15,
   "metadata": {
    "collapsed": true
   },
   "outputs": [],
   "source": [
    "matches_each_season=matches.groupby(['season']).count().match_id"
   ]
  },
  {
   "cell_type": "code",
   "execution_count": 16,
   "metadata": {},
   "outputs": [
    {
     "data": {
      "text/plain": [
       "season\n",
       "2008    58\n",
       "2009    57\n",
       "2010    60\n",
       "2011    73\n",
       "2012    74\n",
       "2013    76\n",
       "2014    60\n",
       "2015    59\n",
       "2016    60\n",
       "2017    59\n",
       "Name: match_id, dtype: int64"
      ]
     },
     "execution_count": 16,
     "metadata": {},
     "output_type": "execute_result"
    }
   ],
   "source": [
    "matches_each_season"
   ]
  },
  {
   "cell_type": "code",
   "execution_count": 17,
   "metadata": {},
   "outputs": [
    {
     "data": {
      "image/png": "[encoded data removed]",
      "text/plain": [
       "<matplotlib.figure.Figure at 0xefa9f1ef28>"
      ]
     },
     "metadata": {},
     "output_type": "display_data"
    }
   ],
   "source": [
    "#season wise runs per match.\n",
    "(runs_each_season/matches_each_season).plot(marker='o')\n",
    "plt.show()"
   ]
  },
  {
   "cell_type": "code",
   "execution_count": 18,
   "metadata": {
    "collapsed": true
   },
   "outputs": [],
   "source": [
    "six=batsmen.groupby(\"season\")[\"batsman_runs\"].agg(lambda x: (x==6).sum())\n",
    "four=batsmen.groupby(\"season\")[\"batsman_runs\"].agg(lambda x: (x==4).sum())"
   ]
  },
  {
   "cell_type": "code",
   "execution_count": 19,
   "metadata": {},
   "outputs": [
    {
     "data": {
      "image/png": "[encoded data removed]",
      "text/plain": [
       "<matplotlib.figure.Figure at 0xefaa99d7f0>"
      ]
     },
     "metadata": {},
     "output_type": "display_data"
    }
   ],
   "source": [
    "#sixes & foures season wise.\n",
    "six.plot(marker='o')\n",
    "four.plot(marker='o')\n",
    "fig=plt.gcf()\n",
    "fig.set_size_inches(10,6)\n",
    "plt.show()"
   ]
  },
  {
   "cell_type": "code",
   "execution_count": 20,
   "metadata": {},
   "outputs": [
    {
     "name": "stdout",
     "output_type": "stream",
     "text": [
      "season    2008\n",
      "winner      RR\n",
      "Name: 57, dtype: object\n",
      "season    2009\n",
      "winner      DC\n",
      "Name: 114, dtype: object\n",
      "season    2010\n",
      "winner     CSK\n",
      "Name: 174, dtype: object\n",
      "season    2011\n",
      "winner     CSK\n",
      "Name: 247, dtype: object\n",
      "season    2012\n",
      "winner     KKR\n",
      "Name: 321, dtype: object\n",
      "season    2013\n",
      "winner      MI\n",
      "Name: 397, dtype: object\n",
      "season    2014\n",
      "winner     KKR\n",
      "Name: 457, dtype: object\n",
      "season    2015\n",
      "winner      MI\n",
      "Name: 516, dtype: object\n",
      "season    2016\n",
      "winner     SRH\n",
      "Name: 576, dtype: object\n"
     ]
    }
   ],
   "source": [
    "#season wise winner.\n",
    "for i in range(2008,2017):\n",
    "    df=((matches[matches['season']==i]).iloc[-1]) \n",
    "    print(df[[1,10]])"
   ]
  },
  {
   "cell_type": "code",
   "execution_count": 21,
   "metadata": {},
   "outputs": [
    {
     "data": {
      "text/plain": [
       "7"
      ]
     },
     "execution_count": 21,
     "metadata": {},
     "output_type": "execute_result"
    }
   ],
   "source": [
    "ball[ball['is_super_over']==1]['match_id'].nunique()"
   ]
  },
  {
   "cell_type": "code",
   "execution_count": 22,
   "metadata": {
    "collapsed": true
   },
   "outputs": [],
   "source": [
    "mt1=matches[((matches['team1_id']=='CSK')|(matches['team2_id']=='CSK'))&((matches['team1_id']=='MI')|(matches['team2_id']=='MI'))]"
   ]
  },
  {
   "cell_type": "code",
   "execution_count": 23,
   "metadata": {},
   "outputs": [
    {
     "data": {
      "image/png": "[encoded data removed]",
      "text/plain": [
       "<matplotlib.figure.Figure at 0xefaa988dd8>"
      ]
     },
     "metadata": {},
     "output_type": "display_data"
    }
   ],
   "source": [
    "#csk vs mi season wise.\n",
    "sns.countplot(x='season', hue='winner',data=mt1,palette='Set3')\n",
    "plt.xticks(rotation='vertical')\n",
    "leg = plt.legend( loc = 'upper center')\n",
    "fig=plt.gcf()\n",
    "fig.set_size_inches(10,6)\n",
    "plt.show()"
   ]
  },
  {
   "cell_type": "code",
   "execution_count": 24,
   "metadata": {
    "collapsed": true
   },
   "outputs": [],
   "source": [
    "ball['total_runs']= ball['batsman_runs']+ball['extra_runs']\n",
    "xyz=ball.groupby(['match_id','inning','batting_team'])['total_runs'].sum().reset_index()"
   ]
  },
  {
   "cell_type": "code",
   "execution_count": 25,
   "metadata": {
    "collapsed": true
   },
   "outputs": [],
   "source": [
    "xyz.drop('match_id',axis=1,inplace=True)"
   ]
  },
  {
   "cell_type": "code",
   "execution_count": 26,
   "metadata": {
    "collapsed": true
   },
   "outputs": [],
   "source": [
    "xyz = xyz.groupby(['inning','batting_team'])['total_runs'].mean().reset_index()"
   ]
  },
  {
   "cell_type": "code",
   "execution_count": 27,
   "metadata": {
    "collapsed": true
   },
   "outputs": [],
   "source": [
    "innings_one = xyz[xyz['inning']==1]"
   ]
  },
  {
   "cell_type": "code",
   "execution_count": 28,
   "metadata": {},
   "outputs": [
    {
     "name": "stderr",
     "output_type": "stream",
     "text": [
      "C:\\Users\\HP\\Anaconda3_5\\envs\\py35\\lib\\site-packages\\ipykernel_launcher.py:1: SettingWithCopyWarning: \n",
      "A value is trying to be set on a copy of a slice from a DataFrame\n",
      "\n",
      "See the caveats in the documentation: http://pandas.pydata.org/pandas-docs/stable/indexing.html#indexing-view-versus-copy\n",
      "  \"\"\"Entry point for launching an IPython kernel.\n"
     ]
    }
   ],
   "source": [
    "innings_one.drop('inning',axis=1,inplace=True)"
   ]
  },
  {
   "cell_type": "code",
   "execution_count": 29,
   "metadata": {
    "scrolled": false
   },
   "outputs": [
    {
     "data": {
      "text/html": [
       "<div>\n",
       "<style>\n",
       "    .dataframe thead tr:only-child th {\n",
       "        text-align: right;\n",
       "    }\n",
       "\n",
       "    .dataframe thead th {\n",
       "        text-align: left;\n",
       "    }\n",
       "\n",
       "    .dataframe tbody tr th {\n",
       "        vertical-align: top;\n",
       "    }\n",
       "</style>\n",
       "<table border=\"1\" class=\"dataframe\">\n",
       "  <thead>\n",
       "    <tr style=\"text-align: right;\">\n",
       "      <th></th>\n",
       "      <th>batting_team</th>\n",
       "      <th>total_runs</th>\n",
       "    </tr>\n",
       "  </thead>\n",
       "  <tbody>\n",
       "    <tr>\n",
       "      <th>0</th>\n",
       "      <td>CSK</td>\n",
       "      <td>164.844156</td>\n",
       "    </tr>\n",
       "    <tr>\n",
       "      <th>1</th>\n",
       "      <td>DC</td>\n",
       "      <td>157.325581</td>\n",
       "    </tr>\n",
       "    <tr>\n",
       "      <th>2</th>\n",
       "      <td>DD</td>\n",
       "      <td>152.777778</td>\n",
       "    </tr>\n",
       "    <tr>\n",
       "      <th>3</th>\n",
       "      <td>GL</td>\n",
       "      <td>161.928571</td>\n",
       "    </tr>\n",
       "    <tr>\n",
       "      <th>4</th>\n",
       "      <td>KKR</td>\n",
       "      <td>155.029412</td>\n",
       "    </tr>\n",
       "    <tr>\n",
       "      <th>5</th>\n",
       "      <td>KTK</td>\n",
       "      <td>144.142857</td>\n",
       "    </tr>\n",
       "    <tr>\n",
       "      <th>6</th>\n",
       "      <td>KXI</td>\n",
       "      <td>159.584416</td>\n",
       "    </tr>\n",
       "    <tr>\n",
       "      <th>7</th>\n",
       "      <td>MI</td>\n",
       "      <td>163.256098</td>\n",
       "    </tr>\n",
       "    <tr>\n",
       "      <th>8</th>\n",
       "      <td>PW</td>\n",
       "      <td>148.650000</td>\n",
       "    </tr>\n",
       "    <tr>\n",
       "      <th>9</th>\n",
       "      <td>RCB</td>\n",
       "      <td>167.214286</td>\n",
       "    </tr>\n",
       "    <tr>\n",
       "      <th>10</th>\n",
       "      <td>RPS</td>\n",
       "      <td>161.800000</td>\n",
       "    </tr>\n",
       "    <tr>\n",
       "      <th>11</th>\n",
       "      <td>RR</td>\n",
       "      <td>156.851852</td>\n",
       "    </tr>\n",
       "    <tr>\n",
       "      <th>12</th>\n",
       "      <td>SRH</td>\n",
       "      <td>160.782609</td>\n",
       "    </tr>\n",
       "  </tbody>\n",
       "</table>\n",
       "</div>"
      ],
      "text/plain": [
       "   batting_team  total_runs\n",
       "0           CSK  164.844156\n",
       "1            DC  157.325581\n",
       "2            DD  152.777778\n",
       "3            GL  161.928571\n",
       "4           KKR  155.029412\n",
       "5           KTK  144.142857\n",
       "6           KXI  159.584416\n",
       "7            MI  163.256098\n",
       "8            PW  148.650000\n",
       "9           RCB  167.214286\n",
       "10          RPS  161.800000\n",
       "11           RR  156.851852\n",
       "12          SRH  160.782609"
      ]
     },
     "execution_count": 29,
     "metadata": {},
     "output_type": "execute_result"
    }
   ],
   "source": [
    "innings_one"
   ]
  },
  {
   "cell_type": "code",
   "execution_count": 30,
   "metadata": {
    "scrolled": true
   },
   "outputs": [
    {
     "data": {
      "image/png": "[encoded data removed]",
      "text/plain": [
       "<matplotlib.figure.Figure at 0xefaa946ef0>"
      ]
     },
     "metadata": {},
     "output_type": "display_data"
    }
   ],
   "source": [
    "plt.subplots(figsize=(10,5))\n",
    "ax=(innings_one['total_runs']).plot.bar(width=0.8)\n",
    "for p in ax.patches:\n",
    "    ax.annotate(format(p.get_height()), (p.get_x()+0.15, p.get_height()+1))\n",
    "plt.show()"
   ]
  },
  {
   "cell_type": "code",
   "execution_count": 31,
   "metadata": {
    "collapsed": true
   },
   "outputs": [],
   "source": [
    "innings_two = xyz[xyz['inning']==2]"
   ]
  },
  {
   "cell_type": "code",
   "execution_count": 32,
   "metadata": {},
   "outputs": [
    {
     "data": {
      "text/html": [
       "<div>\n",
       "<style>\n",
       "    .dataframe thead tr:only-child th {\n",
       "        text-align: right;\n",
       "    }\n",
       "\n",
       "    .dataframe thead th {\n",
       "        text-align: left;\n",
       "    }\n",
       "\n",
       "    .dataframe tbody tr th {\n",
       "        vertical-align: top;\n",
       "    }\n",
       "</style>\n",
       "<table border=\"1\" class=\"dataframe\">\n",
       "  <thead>\n",
       "    <tr style=\"text-align: right;\">\n",
       "      <th></th>\n",
       "      <th>inning</th>\n",
       "      <th>batting_team</th>\n",
       "      <th>total_runs</th>\n",
       "    </tr>\n",
       "  </thead>\n",
       "  <tbody>\n",
       "    <tr>\n",
       "      <th>13</th>\n",
       "      <td>2</td>\n",
       "      <td>CSK</td>\n",
       "      <td>151.796296</td>\n",
       "    </tr>\n",
       "    <tr>\n",
       "      <th>14</th>\n",
       "      <td>2</td>\n",
       "      <td>DC</td>\n",
       "      <td>146.812500</td>\n",
       "    </tr>\n",
       "    <tr>\n",
       "      <th>15</th>\n",
       "      <td>2</td>\n",
       "      <td>DD</td>\n",
       "      <td>146.630952</td>\n",
       "    </tr>\n",
       "    <tr>\n",
       "      <th>16</th>\n",
       "      <td>2</td>\n",
       "      <td>GL</td>\n",
       "      <td>161.812500</td>\n",
       "    </tr>\n",
       "    <tr>\n",
       "      <th>17</th>\n",
       "      <td>2</td>\n",
       "      <td>KKR</td>\n",
       "      <td>142.462500</td>\n",
       "    </tr>\n",
       "    <tr>\n",
       "      <th>18</th>\n",
       "      <td>2</td>\n",
       "      <td>KTK</td>\n",
       "      <td>127.428571</td>\n",
       "    </tr>\n",
       "    <tr>\n",
       "      <th>19</th>\n",
       "      <td>2</td>\n",
       "      <td>KXI</td>\n",
       "      <td>151.478873</td>\n",
       "    </tr>\n",
       "    <tr>\n",
       "      <th>20</th>\n",
       "      <td>2</td>\n",
       "      <td>MI</td>\n",
       "      <td>148.306667</td>\n",
       "    </tr>\n",
       "    <tr>\n",
       "      <th>21</th>\n",
       "      <td>2</td>\n",
       "      <td>PW</td>\n",
       "      <td>135.400000</td>\n",
       "    </tr>\n",
       "    <tr>\n",
       "      <th>22</th>\n",
       "      <td>2</td>\n",
       "      <td>RCB</td>\n",
       "      <td>142.695122</td>\n",
       "    </tr>\n",
       "    <tr>\n",
       "      <th>23</th>\n",
       "      <td>2</td>\n",
       "      <td>RPS</td>\n",
       "      <td>140.400000</td>\n",
       "    </tr>\n",
       "    <tr>\n",
       "      <th>24</th>\n",
       "      <td>2</td>\n",
       "      <td>RR</td>\n",
       "      <td>146.000000</td>\n",
       "    </tr>\n",
       "    <tr>\n",
       "      <th>25</th>\n",
       "      <td>2</td>\n",
       "      <td>SRH</td>\n",
       "      <td>141.200000</td>\n",
       "    </tr>\n",
       "  </tbody>\n",
       "</table>\n",
       "</div>"
      ],
      "text/plain": [
       "    inning batting_team  total_runs\n",
       "13       2          CSK  151.796296\n",
       "14       2           DC  146.812500\n",
       "15       2           DD  146.630952\n",
       "16       2           GL  161.812500\n",
       "17       2          KKR  142.462500\n",
       "18       2          KTK  127.428571\n",
       "19       2          KXI  151.478873\n",
       "20       2           MI  148.306667\n",
       "21       2           PW  135.400000\n",
       "22       2          RCB  142.695122\n",
       "23       2          RPS  140.400000\n",
       "24       2           RR  146.000000\n",
       "25       2          SRH  141.200000"
      ]
     },
     "execution_count": 32,
     "metadata": {},
     "output_type": "execute_result"
    }
   ],
   "source": [
    "innings_two"
   ]
  },
  {
   "cell_type": "code",
   "execution_count": 33,
   "metadata": {},
   "outputs": [
    {
     "data": {
      "image/png": "[encoded data removed]",
      "text/plain": [
       "<matplotlib.figure.Figure at 0xefaa946550>"
      ]
     },
     "metadata": {},
     "output_type": "display_data"
    }
   ],
   "source": [
    "plt.subplots(figsize=(10,5))\n",
    "ax=(innings_two['total_runs']).plot.bar(width=0.8)\n",
    "for p in ax.patches:\n",
    "    ax.annotate(format(p.get_height()), (p.get_x()+0.15, p.get_height()+1))\n",
    "plt.show()"
   ]
  },
  {
   "cell_type": "code",
   "execution_count": 34,
   "metadata": {
    "collapsed": true
   },
   "outputs": [],
   "source": [
    "#team that scored 200+ scores.\n",
    "high_scores=ball.groupby(['match_id','inning','batting_team','bowling_team'])['total_runs'].sum().reset_index()"
   ]
  },
  {
   "cell_type": "code",
   "execution_count": 35,
   "metadata": {},
   "outputs": [
    {
     "data": {
      "text/html": [
       "<div>\n",
       "<style>\n",
       "    .dataframe thead tr:only-child th {\n",
       "        text-align: right;\n",
       "    }\n",
       "\n",
       "    .dataframe thead th {\n",
       "        text-align: left;\n",
       "    }\n",
       "\n",
       "    .dataframe tbody tr th {\n",
       "        vertical-align: top;\n",
       "    }\n",
       "</style>\n",
       "<table border=\"1\" class=\"dataframe\">\n",
       "  <thead>\n",
       "    <tr style=\"text-align: right;\">\n",
       "      <th></th>\n",
       "      <th>match_id</th>\n",
       "      <th>inning</th>\n",
       "      <th>batting_team</th>\n",
       "      <th>bowling_team</th>\n",
       "      <th>total_runs</th>\n",
       "    </tr>\n",
       "  </thead>\n",
       "  <tbody>\n",
       "    <tr>\n",
       "      <th>695</th>\n",
       "      <td>2013_30</td>\n",
       "      <td>1</td>\n",
       "      <td>RCB</td>\n",
       "      <td>PW</td>\n",
       "      <td>263</td>\n",
       "    </tr>\n",
       "    <tr>\n",
       "      <th>1120</th>\n",
       "      <td>2016_44</td>\n",
       "      <td>1</td>\n",
       "      <td>RCB</td>\n",
       "      <td>GL</td>\n",
       "      <td>248</td>\n",
       "    </tr>\n",
       "    <tr>\n",
       "      <th>284</th>\n",
       "      <td>2010_32</td>\n",
       "      <td>1</td>\n",
       "      <td>CSK</td>\n",
       "      <td>RR</td>\n",
       "      <td>246</td>\n",
       "    </tr>\n",
       "    <tr>\n",
       "      <th>22</th>\n",
       "      <td>2008_2</td>\n",
       "      <td>1</td>\n",
       "      <td>CSK</td>\n",
       "      <td>KXI</td>\n",
       "      <td>240</td>\n",
       "    </tr>\n",
       "    <tr>\n",
       "      <th>1004</th>\n",
       "      <td>2015_45</td>\n",
       "      <td>1</td>\n",
       "      <td>RCB</td>\n",
       "      <td>MI</td>\n",
       "      <td>235</td>\n",
       "    </tr>\n",
       "    <tr>\n",
       "      <th>470</th>\n",
       "      <td>2011_62</td>\n",
       "      <td>1</td>\n",
       "      <td>KXI</td>\n",
       "      <td>RCB</td>\n",
       "      <td>232</td>\n",
       "    </tr>\n",
       "    <tr>\n",
       "      <th>388</th>\n",
       "      <td>2011_25</td>\n",
       "      <td>1</td>\n",
       "      <td>DD</td>\n",
       "      <td>KXI</td>\n",
       "      <td>231</td>\n",
       "    </tr>\n",
       "    <tr>\n",
       "      <th>847</th>\n",
       "      <td>2014_29</td>\n",
       "      <td>1</td>\n",
       "      <td>KXI</td>\n",
       "      <td>CSK</td>\n",
       "      <td>231</td>\n",
       "    </tr>\n",
       "    <tr>\n",
       "      <th>1256</th>\n",
       "      <td>2017_50</td>\n",
       "      <td>1</td>\n",
       "      <td>KXI</td>\n",
       "      <td>MI</td>\n",
       "      <td>230</td>\n",
       "    </tr>\n",
       "    <tr>\n",
       "      <th>1110</th>\n",
       "      <td>2016_4</td>\n",
       "      <td>1</td>\n",
       "      <td>RCB</td>\n",
       "      <td>SRH</td>\n",
       "      <td>227</td>\n",
       "    </tr>\n",
       "  </tbody>\n",
       "</table>\n",
       "</div>"
      ],
      "text/plain": [
       "     match_id  inning batting_team bowling_team  total_runs\n",
       "695   2013_30       1          RCB           PW         263\n",
       "1120  2016_44       1          RCB           GL         248\n",
       "284   2010_32       1          CSK           RR         246\n",
       "22     2008_2       1          CSK          KXI         240\n",
       "1004  2015_45       1          RCB           MI         235\n",
       "470   2011_62       1          KXI          RCB         232\n",
       "388   2011_25       1           DD          KXI         231\n",
       "847   2014_29       1          KXI          CSK         231\n",
       "1256  2017_50       1          KXI           MI         230\n",
       "1110   2016_4       1          RCB          SRH         227"
      ]
     },
     "execution_count": 35,
     "metadata": {},
     "output_type": "execute_result"
    }
   ],
   "source": [
    "high_scores.nlargest(10,'total_runs')"
   ]
  },
  {
   "cell_type": "code",
   "execution_count": 36,
   "metadata": {
    "collapsed": true
   },
   "outputs": [],
   "source": [
    "chance = matches[['match_id','winner']].merge(ball, left_on = 'match_id', right_on = 'match_id', how = 'left')"
   ]
  },
  {
   "cell_type": "code",
   "execution_count": 37,
   "metadata": {},
   "outputs": [
    {
     "data": {
      "text/html": [
       "<div>\n",
       "<style>\n",
       "    .dataframe thead tr:only-child th {\n",
       "        text-align: right;\n",
       "    }\n",
       "\n",
       "    .dataframe thead th {\n",
       "        text-align: left;\n",
       "    }\n",
       "\n",
       "    .dataframe tbody tr th {\n",
       "        vertical-align: top;\n",
       "    }\n",
       "</style>\n",
       "<table border=\"1\" class=\"dataframe\">\n",
       "  <thead>\n",
       "    <tr style=\"text-align: right;\">\n",
       "      <th></th>\n",
       "      <th>winner</th>\n",
       "      <th>match_id</th>\n",
       "      <th>inning</th>\n",
       "      <th>batting_team</th>\n",
       "      <th>bowling_team</th>\n",
       "      <th>total_runs</th>\n",
       "    </tr>\n",
       "  </thead>\n",
       "  <tbody>\n",
       "    <tr>\n",
       "      <th>74</th>\n",
       "      <td>CSK</td>\n",
       "      <td>2012_13</td>\n",
       "      <td>1</td>\n",
       "      <td>RCB</td>\n",
       "      <td>CSK</td>\n",
       "      <td>205</td>\n",
       "    </tr>\n",
       "    <tr>\n",
       "      <th>332</th>\n",
       "      <td>DD</td>\n",
       "      <td>2017_41</td>\n",
       "      <td>1</td>\n",
       "      <td>GL</td>\n",
       "      <td>DD</td>\n",
       "      <td>208</td>\n",
       "    </tr>\n",
       "    <tr>\n",
       "      <th>570</th>\n",
       "      <td>KXI</td>\n",
       "      <td>2010_34</td>\n",
       "      <td>1</td>\n",
       "      <td>KKR</td>\n",
       "      <td>KXI</td>\n",
       "      <td>200</td>\n",
       "    </tr>\n",
       "    <tr>\n",
       "      <th>628</th>\n",
       "      <td>KXI</td>\n",
       "      <td>2014_3</td>\n",
       "      <td>1</td>\n",
       "      <td>CSK</td>\n",
       "      <td>KXI</td>\n",
       "      <td>205</td>\n",
       "    </tr>\n",
       "    <tr>\n",
       "      <th>632</th>\n",
       "      <td>KXI</td>\n",
       "      <td>2014_39</td>\n",
       "      <td>1</td>\n",
       "      <td>SRH</td>\n",
       "      <td>KXI</td>\n",
       "      <td>205</td>\n",
       "    </tr>\n",
       "    <tr>\n",
       "      <th>926</th>\n",
       "      <td>RCB</td>\n",
       "      <td>2010_7</td>\n",
       "      <td>1</td>\n",
       "      <td>KXI</td>\n",
       "      <td>RCB</td>\n",
       "      <td>203</td>\n",
       "    </tr>\n",
       "    <tr>\n",
       "      <th>1088</th>\n",
       "      <td>RR</td>\n",
       "      <td>2008_9</td>\n",
       "      <td>1</td>\n",
       "      <td>DC</td>\n",
       "      <td>RR</td>\n",
       "      <td>214</td>\n",
       "    </tr>\n",
       "  </tbody>\n",
       "</table>\n",
       "</div>"
      ],
      "text/plain": [
       "     winner match_id  inning batting_team bowling_team  total_runs\n",
       "74      CSK  2012_13       1          RCB          CSK         205\n",
       "332      DD  2017_41       1           GL           DD         208\n",
       "570     KXI  2010_34       1          KKR          KXI         200\n",
       "628     KXI   2014_3       1          CSK          KXI         205\n",
       "632     KXI  2014_39       1          SRH          KXI         205\n",
       "926     RCB   2010_7       1          KXI          RCB         203\n",
       "1088     RR   2008_9       1           DC           RR         214"
      ]
     },
     "execution_count": 37,
     "metadata": {},
     "output_type": "execute_result"
    }
   ],
   "source": [
    "#matches in which team chase down 200+ score.\n",
    "chance = chance.groupby(['winner','match_id','inning','batting_team','bowling_team'])['total_runs'].sum().reset_index()\n",
    "chance[((chance['total_runs'] >= 200)&(chance['inning']==1))&(chance['winner']==chance['bowling_team'])]"
   ]
  },
  {
   "cell_type": "markdown",
   "metadata": {},
   "source": [
    "## Batting analysis."
   ]
  },
  {
   "cell_type": "code",
   "execution_count": 38,
   "metadata": {
    "scrolled": true
   },
   "outputs": [
    {
     "data": {
      "text/html": [
       "<div>\n",
       "<style>\n",
       "    .dataframe thead tr:only-child th {\n",
       "        text-align: right;\n",
       "    }\n",
       "\n",
       "    .dataframe thead th {\n",
       "        text-align: left;\n",
       "    }\n",
       "\n",
       "    .dataframe tbody tr th {\n",
       "        vertical-align: top;\n",
       "    }\n",
       "</style>\n",
       "<table border=\"1\" class=\"dataframe\">\n",
       "  <thead>\n",
       "    <tr style=\"text-align: right;\">\n",
       "      <th></th>\n",
       "      <th>batsman</th>\n",
       "      <th>strike_rate</th>\n",
       "      <th>batsman_runs</th>\n",
       "    </tr>\n",
       "  </thead>\n",
       "  <tbody>\n",
       "    <tr>\n",
       "      <th>33</th>\n",
       "      <td>Andre Russell</td>\n",
       "      <td>164.000000</td>\n",
       "      <td>574</td>\n",
       "    </tr>\n",
       "    <tr>\n",
       "      <th>144</th>\n",
       "      <td>Glenn Maxwell</td>\n",
       "      <td>157.564103</td>\n",
       "      <td>1229</td>\n",
       "    </tr>\n",
       "    <tr>\n",
       "      <th>444</th>\n",
       "      <td>Virender Sehwag</td>\n",
       "      <td>148.827059</td>\n",
       "      <td>2728</td>\n",
       "    </tr>\n",
       "    <tr>\n",
       "      <th>326</th>\n",
       "      <td>Rishabh Pant</td>\n",
       "      <td>148.031496</td>\n",
       "      <td>564</td>\n",
       "    </tr>\n",
       "    <tr>\n",
       "      <th>0</th>\n",
       "      <td>AB De Villiers</td>\n",
       "      <td>145.129059</td>\n",
       "      <td>3486</td>\n",
       "    </tr>\n",
       "    <tr>\n",
       "      <th>91</th>\n",
       "      <td>Chris Gayle</td>\n",
       "      <td>144.194313</td>\n",
       "      <td>3651</td>\n",
       "    </tr>\n",
       "    <tr>\n",
       "      <th>188</th>\n",
       "      <td>Jos Buttler</td>\n",
       "      <td>140.800000</td>\n",
       "      <td>528</td>\n",
       "    </tr>\n",
       "    <tr>\n",
       "      <th>457</th>\n",
       "      <td>Yusuf Pathan</td>\n",
       "      <td>140.751445</td>\n",
       "      <td>2922</td>\n",
       "    </tr>\n",
       "    <tr>\n",
       "      <th>206</th>\n",
       "      <td>Kieron Pollard</td>\n",
       "      <td>140.621266</td>\n",
       "      <td>2354</td>\n",
       "    </tr>\n",
       "    <tr>\n",
       "      <th>111</th>\n",
       "      <td>David Warner</td>\n",
       "      <td>138.318401</td>\n",
       "      <td>4014</td>\n",
       "    </tr>\n",
       "  </tbody>\n",
       "</table>\n",
       "</div>"
      ],
      "text/plain": [
       "             batsman  strike_rate  batsman_runs\n",
       "33     Andre Russell   164.000000           574\n",
       "144    Glenn Maxwell   157.564103          1229\n",
       "444  Virender Sehwag   148.827059          2728\n",
       "326     Rishabh Pant   148.031496           564\n",
       "0     AB De Villiers   145.129059          3486\n",
       "91       Chris Gayle   144.194313          3651\n",
       "188      Jos Buttler   140.800000           528\n",
       "457     Yusuf Pathan   140.751445          2922\n",
       "206   Kieron Pollard   140.621266          2354\n",
       "111     David Warner   138.318401          4014"
      ]
     },
     "execution_count": 38,
     "metadata": {},
     "output_type": "execute_result"
    }
   ],
   "source": [
    "#top 10 striker with 500+ runs.\n",
    "balls=ball.groupby(['batsman'])['ball'].count().reset_index()\n",
    "runs=ball.groupby(['batsman'])['batsman_runs'].sum().reset_index()\n",
    "strike_rate = pd.DataFrame()\n",
    "strike_rate['batsman'] = runs['batsman']\n",
    "strike_rate['strike_rate'] = runs['batsman_runs']/balls['ball']*100\n",
    "batsman =strike_rate.merge(runs, left_on ='batsman', right_on = 'batsman', how = 'left')\n",
    "batsman[batsman['batsman_runs']>=500].nlargest(10,'strike_rate')"
   ]
  },
  {
   "cell_type": "code",
   "execution_count": 39,
   "metadata": {},
   "outputs": [
    {
     "data": {
      "text/html": [
       "<div>\n",
       "<style>\n",
       "    .dataframe thead tr:only-child th {\n",
       "        text-align: right;\n",
       "    }\n",
       "\n",
       "    .dataframe thead th {\n",
       "        text-align: left;\n",
       "    }\n",
       "\n",
       "    .dataframe tbody tr th {\n",
       "        vertical-align: top;\n",
       "    }\n",
       "</style>\n",
       "<table border=\"1\" class=\"dataframe\">\n",
       "  <thead>\n",
       "    <tr style=\"text-align: right;\">\n",
       "      <th></th>\n",
       "      <th>batsman</th>\n",
       "      <th>strike_rate</th>\n",
       "      <th>batsman_runs</th>\n",
       "      <th>ball</th>\n",
       "    </tr>\n",
       "  </thead>\n",
       "  <tbody>\n",
       "    <tr>\n",
       "      <th>407</th>\n",
       "      <td>Suresh Raina</td>\n",
       "      <td>134.995548</td>\n",
       "      <td>4548</td>\n",
       "      <td>3369</td>\n",
       "    </tr>\n",
       "    <tr>\n",
       "      <th>443</th>\n",
       "      <td>Virat Kohli</td>\n",
       "      <td>126.588437</td>\n",
       "      <td>4423</td>\n",
       "      <td>3494</td>\n",
       "    </tr>\n",
       "    <tr>\n",
       "      <th>334</th>\n",
       "      <td>Rohit Sharma</td>\n",
       "      <td>128.497251</td>\n",
       "      <td>4207</td>\n",
       "      <td>3274</td>\n",
       "    </tr>\n",
       "    <tr>\n",
       "      <th>142</th>\n",
       "      <td>Gautam Gambhir</td>\n",
       "      <td>120.361200</td>\n",
       "      <td>4132</td>\n",
       "      <td>3433</td>\n",
       "    </tr>\n",
       "    <tr>\n",
       "      <th>111</th>\n",
       "      <td>David Warner</td>\n",
       "      <td>138.318401</td>\n",
       "      <td>4014</td>\n",
       "      <td>2902</td>\n",
       "    </tr>\n",
       "    <tr>\n",
       "      <th>330</th>\n",
       "      <td>Robin Uthappa</td>\n",
       "      <td>127.635135</td>\n",
       "      <td>3778</td>\n",
       "      <td>2960</td>\n",
       "    </tr>\n",
       "    <tr>\n",
       "      <th>91</th>\n",
       "      <td>Chris Gayle</td>\n",
       "      <td>144.194313</td>\n",
       "      <td>3651</td>\n",
       "      <td>2532</td>\n",
       "    </tr>\n",
       "    <tr>\n",
       "      <th>375</th>\n",
       "      <td>Shikhar Dhawan</td>\n",
       "      <td>118.502496</td>\n",
       "      <td>3561</td>\n",
       "      <td>3005</td>\n",
       "    </tr>\n",
       "    <tr>\n",
       "      <th>224</th>\n",
       "      <td>Mahendra Singh Dhoni</td>\n",
       "      <td>132.835821</td>\n",
       "      <td>3560</td>\n",
       "      <td>2680</td>\n",
       "    </tr>\n",
       "    <tr>\n",
       "      <th>0</th>\n",
       "      <td>AB De Villiers</td>\n",
       "      <td>145.129059</td>\n",
       "      <td>3486</td>\n",
       "      <td>2402</td>\n",
       "    </tr>\n",
       "  </tbody>\n",
       "</table>\n",
       "</div>"
      ],
      "text/plain": [
       "                  batsman  strike_rate  batsman_runs  ball\n",
       "407          Suresh Raina   134.995548          4548  3369\n",
       "443           Virat Kohli   126.588437          4423  3494\n",
       "334          Rohit Sharma   128.497251          4207  3274\n",
       "142        Gautam Gambhir   120.361200          4132  3433\n",
       "111          David Warner   138.318401          4014  2902\n",
       "330         Robin Uthappa   127.635135          3778  2960\n",
       "91            Chris Gayle   144.194313          3651  2532\n",
       "375        Shikhar Dhawan   118.502496          3561  3005\n",
       "224  Mahendra Singh Dhoni   132.835821          3560  2680\n",
       "0          AB De Villiers   145.129059          3486  2402"
      ]
     },
     "execution_count": 39,
     "metadata": {},
     "output_type": "execute_result"
    }
   ],
   "source": [
    "#top 10 run scorer.\n",
    "batsman =batsman.merge(balls, left_on ='batsman', right_on = 'batsman', how = 'left')\n",
    "batsman.nlargest(10,'batsman_runs')"
   ]
  },
  {
   "cell_type": "markdown",
   "metadata": {},
   "source": [
    "#### adding 100's and 50's"
   ]
  },
  {
   "cell_type": "code",
   "execution_count": 40,
   "metadata": {},
   "outputs": [],
   "source": [
    "batsman_match = ball.groupby(['match_id','batsman'])['batsman_runs'].sum().reset_index()\n",
    "batsman2 = ball.groupby(['match_id','batsman']).count().reset_index()\n",
    "batsman_match['ball'] = batsman2['inning']"
   ]
  },
  {
   "cell_type": "code",
   "execution_count": 41,
   "metadata": {},
   "outputs": [],
   "source": [
    "hundred = batsman_match[batsman_match['batsman_runs']>=100].groupby(['batsman']).count().reset_index()\n",
    "hundred = hundred[['batsman','batsman_runs']].rename(columns={'batsman_runs': 'hundreds'})"
   ]
  },
  {
   "cell_type": "code",
   "execution_count": 42,
   "metadata": {},
   "outputs": [
    {
     "data": {
      "text/html": [
       "<div>\n",
       "<style>\n",
       "    .dataframe thead tr:only-child th {\n",
       "        text-align: right;\n",
       "    }\n",
       "\n",
       "    .dataframe thead th {\n",
       "        text-align: left;\n",
       "    }\n",
       "\n",
       "    .dataframe tbody tr th {\n",
       "        vertical-align: top;\n",
       "    }\n",
       "</style>\n",
       "<table border=\"1\" class=\"dataframe\">\n",
       "  <thead>\n",
       "    <tr style=\"text-align: right;\">\n",
       "      <th></th>\n",
       "      <th>batsman</th>\n",
       "      <th>strike_rate</th>\n",
       "      <th>batsman_runs</th>\n",
       "      <th>ball</th>\n",
       "      <th>hundreds</th>\n",
       "    </tr>\n",
       "  </thead>\n",
       "  <tbody>\n",
       "    <tr>\n",
       "      <th>0</th>\n",
       "      <td>AB De Villiers</td>\n",
       "      <td>145.129059</td>\n",
       "      <td>3486</td>\n",
       "      <td>2402</td>\n",
       "      <td>3.0</td>\n",
       "    </tr>\n",
       "    <tr>\n",
       "      <th>1</th>\n",
       "      <td>Aakash Chopra</td>\n",
       "      <td>70.666667</td>\n",
       "      <td>53</td>\n",
       "      <td>75</td>\n",
       "      <td>NaN</td>\n",
       "    </tr>\n",
       "    <tr>\n",
       "      <th>2</th>\n",
       "      <td>Aaron Finch</td>\n",
       "      <td>126.299213</td>\n",
       "      <td>1604</td>\n",
       "      <td>1270</td>\n",
       "      <td>NaN</td>\n",
       "    </tr>\n",
       "    <tr>\n",
       "      <th>3</th>\n",
       "      <td>Abdur Razzak</td>\n",
       "      <td>0.000000</td>\n",
       "      <td>0</td>\n",
       "      <td>2</td>\n",
       "      <td>NaN</td>\n",
       "    </tr>\n",
       "    <tr>\n",
       "      <th>4</th>\n",
       "      <td>Abhimanyu Mithun</td>\n",
       "      <td>130.769231</td>\n",
       "      <td>34</td>\n",
       "      <td>26</td>\n",
       "      <td>NaN</td>\n",
       "    </tr>\n",
       "  </tbody>\n",
       "</table>\n",
       "</div>"
      ],
      "text/plain": [
       "            batsman  strike_rate  batsman_runs  ball  hundreds\n",
       "0    AB De Villiers   145.129059          3486  2402       3.0\n",
       "1     Aakash Chopra    70.666667            53    75       NaN\n",
       "2       Aaron Finch   126.299213          1604  1270       NaN\n",
       "3      Abdur Razzak     0.000000             0     2       NaN\n",
       "4  Abhimanyu Mithun   130.769231            34    26       NaN"
      ]
     },
     "execution_count": 42,
     "metadata": {},
     "output_type": "execute_result"
    }
   ],
   "source": [
    "batsman =batsman.merge(hundred, left_on ='batsman', right_on = 'batsman', how = 'left')\n",
    "batsman.head()"
   ]
  },
  {
   "cell_type": "code",
   "execution_count": 43,
   "metadata": {
    "collapsed": true
   },
   "outputs": [],
   "source": [
    "fifty = batsman_match[(batsman_match['batsman_runs']<100)&(batsman_match['batsman_runs']>=50)].groupby(['batsman']).count().reset_index()\n",
    "fifty = fifty[['batsman','batsman_runs']].rename(columns={'batsman_runs': 'fifty'})"
   ]
  },
  {
   "cell_type": "code",
   "execution_count": 44,
   "metadata": {},
   "outputs": [
    {
     "data": {
      "text/html": [
       "<div>\n",
       "<style>\n",
       "    .dataframe thead tr:only-child th {\n",
       "        text-align: right;\n",
       "    }\n",
       "\n",
       "    .dataframe thead th {\n",
       "        text-align: left;\n",
       "    }\n",
       "\n",
       "    .dataframe tbody tr th {\n",
       "        vertical-align: top;\n",
       "    }\n",
       "</style>\n",
       "<table border=\"1\" class=\"dataframe\">\n",
       "  <thead>\n",
       "    <tr style=\"text-align: right;\">\n",
       "      <th></th>\n",
       "      <th>batsman</th>\n",
       "      <th>strike_rate</th>\n",
       "      <th>batsman_runs</th>\n",
       "      <th>ball</th>\n",
       "      <th>hundreds</th>\n",
       "      <th>fifty</th>\n",
       "    </tr>\n",
       "  </thead>\n",
       "  <tbody>\n",
       "    <tr>\n",
       "      <th>0</th>\n",
       "      <td>AB De Villiers</td>\n",
       "      <td>145.129059</td>\n",
       "      <td>3486</td>\n",
       "      <td>2402</td>\n",
       "      <td>3.0</td>\n",
       "      <td>23.0</td>\n",
       "    </tr>\n",
       "    <tr>\n",
       "      <th>1</th>\n",
       "      <td>Aakash Chopra</td>\n",
       "      <td>70.666667</td>\n",
       "      <td>53</td>\n",
       "      <td>75</td>\n",
       "      <td>NaN</td>\n",
       "      <td>NaN</td>\n",
       "    </tr>\n",
       "    <tr>\n",
       "      <th>2</th>\n",
       "      <td>Aaron Finch</td>\n",
       "      <td>126.299213</td>\n",
       "      <td>1604</td>\n",
       "      <td>1270</td>\n",
       "      <td>NaN</td>\n",
       "      <td>13.0</td>\n",
       "    </tr>\n",
       "    <tr>\n",
       "      <th>3</th>\n",
       "      <td>Abdur Razzak</td>\n",
       "      <td>0.000000</td>\n",
       "      <td>0</td>\n",
       "      <td>2</td>\n",
       "      <td>NaN</td>\n",
       "      <td>NaN</td>\n",
       "    </tr>\n",
       "    <tr>\n",
       "      <th>4</th>\n",
       "      <td>Abhimanyu Mithun</td>\n",
       "      <td>130.769231</td>\n",
       "      <td>34</td>\n",
       "      <td>26</td>\n",
       "      <td>NaN</td>\n",
       "      <td>NaN</td>\n",
       "    </tr>\n",
       "  </tbody>\n",
       "</table>\n",
       "</div>"
      ],
      "text/plain": [
       "            batsman  strike_rate  batsman_runs  ball  hundreds  fifty\n",
       "0    AB De Villiers   145.129059          3486  2402       3.0   23.0\n",
       "1     Aakash Chopra    70.666667            53    75       NaN    NaN\n",
       "2       Aaron Finch   126.299213          1604  1270       NaN   13.0\n",
       "3      Abdur Razzak     0.000000             0     2       NaN    NaN\n",
       "4  Abhimanyu Mithun   130.769231            34    26       NaN    NaN"
      ]
     },
     "execution_count": 44,
     "metadata": {},
     "output_type": "execute_result"
    }
   ],
   "source": [
    "batsman =batsman.merge(fifty, left_on ='batsman', right_on = 'batsman', how = 'left')\n",
    "batsman.head()"
   ]
  },
  {
   "cell_type": "code",
   "execution_count": 45,
   "metadata": {
    "collapsed": true
   },
   "outputs": [],
   "source": [
    "ab=ball['player_dismissed'].value_counts().reset_index()\n",
    "batsman =batsman.merge(ab, left_on ='batsman', right_on = 'index', how = 'left')\n",
    "batsman.drop(['index'],axis=1,inplace=True)"
   ]
  },
  {
   "cell_type": "code",
   "execution_count": 46,
   "metadata": {},
   "outputs": [],
   "source": [
    "batsman['average'] = batsman['batsman_runs']/batsman['player_dismissed']"
   ]
  },
  {
   "cell_type": "code",
   "execution_count": 47,
   "metadata": {},
   "outputs": [
    {
     "data": {
      "text/html": [
       "<div>\n",
       "<style>\n",
       "    .dataframe thead tr:only-child th {\n",
       "        text-align: right;\n",
       "    }\n",
       "\n",
       "    .dataframe thead th {\n",
       "        text-align: left;\n",
       "    }\n",
       "\n",
       "    .dataframe tbody tr th {\n",
       "        vertical-align: top;\n",
       "    }\n",
       "</style>\n",
       "<table border=\"1\" class=\"dataframe\">\n",
       "  <thead>\n",
       "    <tr style=\"text-align: right;\">\n",
       "      <th></th>\n",
       "      <th>batsman</th>\n",
       "      <th>batsman_runs</th>\n",
       "    </tr>\n",
       "  </thead>\n",
       "  <tbody>\n",
       "    <tr>\n",
       "      <th>0</th>\n",
       "      <td>AB De Villiers</td>\n",
       "      <td>133</td>\n",
       "    </tr>\n",
       "    <tr>\n",
       "      <th>1</th>\n",
       "      <td>Aakash Chopra</td>\n",
       "      <td>24</td>\n",
       "    </tr>\n",
       "    <tr>\n",
       "      <th>2</th>\n",
       "      <td>Aaron Finch</td>\n",
       "      <td>88</td>\n",
       "    </tr>\n",
       "    <tr>\n",
       "      <th>3</th>\n",
       "      <td>Abdur Razzak</td>\n",
       "      <td>0</td>\n",
       "    </tr>\n",
       "    <tr>\n",
       "      <th>4</th>\n",
       "      <td>Abhimanyu Mithun</td>\n",
       "      <td>11</td>\n",
       "    </tr>\n",
       "  </tbody>\n",
       "</table>\n",
       "</div>"
      ],
      "text/plain": [
       "            batsman  batsman_runs\n",
       "0    AB De Villiers           133\n",
       "1     Aakash Chopra            24\n",
       "2       Aaron Finch            88\n",
       "3      Abdur Razzak             0\n",
       "4  Abhimanyu Mithun            11"
      ]
     },
     "execution_count": 47,
     "metadata": {},
     "output_type": "execute_result"
    }
   ],
   "source": [
    "highest = batsman_match.groupby(['batsman'])['batsman_runs'].max().reset_index()\n",
    "highest.head()"
   ]
  },
  {
   "cell_type": "code",
   "execution_count": 48,
   "metadata": {
    "collapsed": true
   },
   "outputs": [],
   "source": [
    "highest = highest.rename(columns={'batsman_runs': 'highest'})\n",
    "batsman =batsman.merge(highest, left_on ='batsman', right_on = 'batsman', how = 'left')"
   ]
  },
  {
   "cell_type": "code",
   "execution_count": 49,
   "metadata": {},
   "outputs": [
    {
     "data": {
      "text/html": [
       "<div>\n",
       "<style>\n",
       "    .dataframe thead tr:only-child th {\n",
       "        text-align: right;\n",
       "    }\n",
       "\n",
       "    .dataframe thead th {\n",
       "        text-align: left;\n",
       "    }\n",
       "\n",
       "    .dataframe tbody tr th {\n",
       "        vertical-align: top;\n",
       "    }\n",
       "</style>\n",
       "<table border=\"1\" class=\"dataframe\">\n",
       "  <thead>\n",
       "    <tr style=\"text-align: right;\">\n",
       "      <th></th>\n",
       "      <th>batsman</th>\n",
       "      <th>strike_rate</th>\n",
       "      <th>batsman_runs</th>\n",
       "      <th>ball</th>\n",
       "      <th>hundreds</th>\n",
       "      <th>fifty</th>\n",
       "      <th>player_dismissed</th>\n",
       "      <th>average</th>\n",
       "      <th>highest</th>\n",
       "    </tr>\n",
       "  </thead>\n",
       "  <tbody>\n",
       "    <tr>\n",
       "      <th>0</th>\n",
       "      <td>AB De Villiers</td>\n",
       "      <td>145.129059</td>\n",
       "      <td>3486</td>\n",
       "      <td>2402</td>\n",
       "      <td>3.0</td>\n",
       "      <td>23.0</td>\n",
       "      <td>91.0</td>\n",
       "      <td>38.307692</td>\n",
       "      <td>133</td>\n",
       "    </tr>\n",
       "    <tr>\n",
       "      <th>1</th>\n",
       "      <td>Aakash Chopra</td>\n",
       "      <td>70.666667</td>\n",
       "      <td>53</td>\n",
       "      <td>75</td>\n",
       "      <td>NaN</td>\n",
       "      <td>NaN</td>\n",
       "      <td>6.0</td>\n",
       "      <td>8.833333</td>\n",
       "      <td>24</td>\n",
       "    </tr>\n",
       "    <tr>\n",
       "      <th>2</th>\n",
       "      <td>Aaron Finch</td>\n",
       "      <td>126.299213</td>\n",
       "      <td>1604</td>\n",
       "      <td>1270</td>\n",
       "      <td>NaN</td>\n",
       "      <td>13.0</td>\n",
       "      <td>59.0</td>\n",
       "      <td>27.186441</td>\n",
       "      <td>88</td>\n",
       "    </tr>\n",
       "    <tr>\n",
       "      <th>3</th>\n",
       "      <td>Abdur Razzak</td>\n",
       "      <td>0.000000</td>\n",
       "      <td>0</td>\n",
       "      <td>2</td>\n",
       "      <td>NaN</td>\n",
       "      <td>NaN</td>\n",
       "      <td>NaN</td>\n",
       "      <td>NaN</td>\n",
       "      <td>0</td>\n",
       "    </tr>\n",
       "    <tr>\n",
       "      <th>4</th>\n",
       "      <td>Abhimanyu Mithun</td>\n",
       "      <td>130.769231</td>\n",
       "      <td>34</td>\n",
       "      <td>26</td>\n",
       "      <td>NaN</td>\n",
       "      <td>NaN</td>\n",
       "      <td>5.0</td>\n",
       "      <td>6.800000</td>\n",
       "      <td>11</td>\n",
       "    </tr>\n",
       "  </tbody>\n",
       "</table>\n",
       "</div>"
      ],
      "text/plain": [
       "            batsman  strike_rate  batsman_runs  ball  hundreds  fifty  \\\n",
       "0    AB De Villiers   145.129059          3486  2402       3.0   23.0   \n",
       "1     Aakash Chopra    70.666667            53    75       NaN    NaN   \n",
       "2       Aaron Finch   126.299213          1604  1270       NaN   13.0   \n",
       "3      Abdur Razzak     0.000000             0     2       NaN    NaN   \n",
       "4  Abhimanyu Mithun   130.769231            34    26       NaN    NaN   \n",
       "\n",
       "   player_dismissed    average  highest  \n",
       "0              91.0  38.307692      133  \n",
       "1               6.0   8.833333       24  \n",
       "2              59.0  27.186441       88  \n",
       "3               NaN        NaN        0  \n",
       "4               5.0   6.800000       11  "
      ]
     },
     "execution_count": 49,
     "metadata": {},
     "output_type": "execute_result"
    }
   ],
   "source": [
    "batsman.head()"
   ]
  },
  {
   "cell_type": "code",
   "execution_count": 50,
   "metadata": {},
   "outputs": [],
   "source": [
    "#A class batsman.\n",
    "A_batsman = batsman[((batsman['strike_rate']>=120)&(batsman['average']>=27))&(batsman['batsman_runs']>=500)]"
   ]
  },
  {
   "cell_type": "code",
   "execution_count": 51,
   "metadata": {},
   "outputs": [
    {
     "data": {
      "text/html": [
       "<div>\n",
       "<style>\n",
       "    .dataframe thead tr:only-child th {\n",
       "        text-align: right;\n",
       "    }\n",
       "\n",
       "    .dataframe thead th {\n",
       "        text-align: left;\n",
       "    }\n",
       "\n",
       "    .dataframe tbody tr th {\n",
       "        vertical-align: top;\n",
       "    }\n",
       "</style>\n",
       "<table border=\"1\" class=\"dataframe\">\n",
       "  <thead>\n",
       "    <tr style=\"text-align: right;\">\n",
       "      <th></th>\n",
       "      <th>batsman</th>\n",
       "      <th>strike_rate</th>\n",
       "      <th>batsman_runs</th>\n",
       "      <th>ball</th>\n",
       "      <th>hundreds</th>\n",
       "      <th>fifty</th>\n",
       "      <th>player_dismissed</th>\n",
       "      <th>average</th>\n",
       "      <th>highest</th>\n",
       "    </tr>\n",
       "  </thead>\n",
       "  <tbody>\n",
       "    <tr>\n",
       "      <th>0</th>\n",
       "      <td>AB De Villiers</td>\n",
       "      <td>145.129059</td>\n",
       "      <td>3486</td>\n",
       "      <td>2402</td>\n",
       "      <td>3.0</td>\n",
       "      <td>23.0</td>\n",
       "      <td>91.0</td>\n",
       "      <td>38.307692</td>\n",
       "      <td>133</td>\n",
       "    </tr>\n",
       "    <tr>\n",
       "      <th>2</th>\n",
       "      <td>Aaron Finch</td>\n",
       "      <td>126.299213</td>\n",
       "      <td>1604</td>\n",
       "      <td>1270</td>\n",
       "      <td>NaN</td>\n",
       "      <td>13.0</td>\n",
       "      <td>59.0</td>\n",
       "      <td>27.186441</td>\n",
       "      <td>88</td>\n",
       "    </tr>\n",
       "    <tr>\n",
       "      <th>10</th>\n",
       "      <td>Adam Gilchrist</td>\n",
       "      <td>133.054662</td>\n",
       "      <td>2069</td>\n",
       "      <td>1555</td>\n",
       "      <td>2.0</td>\n",
       "      <td>11.0</td>\n",
       "      <td>76.0</td>\n",
       "      <td>27.223684</td>\n",
       "      <td>109</td>\n",
       "    </tr>\n",
       "    <tr>\n",
       "      <th>27</th>\n",
       "      <td>Ambati Rayudu</td>\n",
       "      <td>123.014257</td>\n",
       "      <td>2416</td>\n",
       "      <td>1964</td>\n",
       "      <td>NaN</td>\n",
       "      <td>14.0</td>\n",
       "      <td>89.0</td>\n",
       "      <td>27.146067</td>\n",
       "      <td>81</td>\n",
       "    </tr>\n",
       "    <tr>\n",
       "      <th>36</th>\n",
       "      <td>Andrew Symonds</td>\n",
       "      <td>124.711908</td>\n",
       "      <td>974</td>\n",
       "      <td>781</td>\n",
       "      <td>1.0</td>\n",
       "      <td>5.0</td>\n",
       "      <td>27.0</td>\n",
       "      <td>36.074074</td>\n",
       "      <td>117</td>\n",
       "    </tr>\n",
       "  </tbody>\n",
       "</table>\n",
       "</div>"
      ],
      "text/plain": [
       "           batsman  strike_rate  batsman_runs  ball  hundreds  fifty  \\\n",
       "0   AB De Villiers   145.129059          3486  2402       3.0   23.0   \n",
       "2      Aaron Finch   126.299213          1604  1270       NaN   13.0   \n",
       "10  Adam Gilchrist   133.054662          2069  1555       2.0   11.0   \n",
       "27   Ambati Rayudu   123.014257          2416  1964       NaN   14.0   \n",
       "36  Andrew Symonds   124.711908           974   781       1.0    5.0   \n",
       "\n",
       "    player_dismissed    average  highest  \n",
       "0               91.0  38.307692      133  \n",
       "2               59.0  27.186441       88  \n",
       "10              76.0  27.223684      109  \n",
       "27              89.0  27.146067       81  \n",
       "36              27.0  36.074074      117  "
      ]
     },
     "execution_count": 51,
     "metadata": {},
     "output_type": "execute_result"
    }
   ],
   "source": [
    "A_batsman.head()"
   ]
  },
  {
   "cell_type": "code",
   "execution_count": 52,
   "metadata": {},
   "outputs": [],
   "source": [
    "#B class batsman.\n",
    "B_batsman = batsman[((batsman['strike_rate']>=114)&((batsman['average']<=27)&(batsman['average']>=20)))&(batsman['batsman_runs']>=300)]     "
   ]
  },
  {
   "cell_type": "code",
   "execution_count": 53,
   "metadata": {},
   "outputs": [
    {
     "data": {
      "text/html": [
       "<div>\n",
       "<style>\n",
       "    .dataframe thead tr:only-child th {\n",
       "        text-align: right;\n",
       "    }\n",
       "\n",
       "    .dataframe thead th {\n",
       "        text-align: left;\n",
       "    }\n",
       "\n",
       "    .dataframe tbody tr th {\n",
       "        vertical-align: top;\n",
       "    }\n",
       "</style>\n",
       "<table border=\"1\" class=\"dataframe\">\n",
       "  <thead>\n",
       "    <tr style=\"text-align: right;\">\n",
       "      <th></th>\n",
       "      <th>batsman</th>\n",
       "      <th>strike_rate</th>\n",
       "      <th>batsman_runs</th>\n",
       "      <th>ball</th>\n",
       "      <th>hundreds</th>\n",
       "      <th>fifty</th>\n",
       "      <th>player_dismissed</th>\n",
       "      <th>average</th>\n",
       "      <th>highest</th>\n",
       "    </tr>\n",
       "  </thead>\n",
       "  <tbody>\n",
       "    <tr>\n",
       "      <th>24</th>\n",
       "      <td>Albie Morkel</td>\n",
       "      <td>136.938202</td>\n",
       "      <td>975</td>\n",
       "      <td>712</td>\n",
       "      <td>NaN</td>\n",
       "      <td>3.0</td>\n",
       "      <td>40.0</td>\n",
       "      <td>24.375000</td>\n",
       "      <td>73</td>\n",
       "    </tr>\n",
       "    <tr>\n",
       "      <th>33</th>\n",
       "      <td>Andre Russell</td>\n",
       "      <td>164.000000</td>\n",
       "      <td>574</td>\n",
       "      <td>350</td>\n",
       "      <td>NaN</td>\n",
       "      <td>3.0</td>\n",
       "      <td>22.0</td>\n",
       "      <td>26.090909</td>\n",
       "      <td>66</td>\n",
       "    </tr>\n",
       "    <tr>\n",
       "      <th>38</th>\n",
       "      <td>Angelo Mathews</td>\n",
       "      <td>120.868114</td>\n",
       "      <td>724</td>\n",
       "      <td>599</td>\n",
       "      <td>NaN</td>\n",
       "      <td>1.0</td>\n",
       "      <td>31.0</td>\n",
       "      <td>23.354839</td>\n",
       "      <td>65</td>\n",
       "    </tr>\n",
       "    <tr>\n",
       "      <th>57</th>\n",
       "      <td>Axar Patel</td>\n",
       "      <td>122.672065</td>\n",
       "      <td>606</td>\n",
       "      <td>494</td>\n",
       "      <td>NaN</td>\n",
       "      <td>NaN</td>\n",
       "      <td>30.0</td>\n",
       "      <td>20.200000</td>\n",
       "      <td>44</td>\n",
       "    </tr>\n",
       "    <tr>\n",
       "      <th>59</th>\n",
       "      <td>Azhar Mahmood</td>\n",
       "      <td>124.758842</td>\n",
       "      <td>388</td>\n",
       "      <td>311</td>\n",
       "      <td>NaN</td>\n",
       "      <td>2.0</td>\n",
       "      <td>19.0</td>\n",
       "      <td>20.421053</td>\n",
       "      <td>80</td>\n",
       "    </tr>\n",
       "  </tbody>\n",
       "</table>\n",
       "</div>"
      ],
      "text/plain": [
       "           batsman  strike_rate  batsman_runs  ball  hundreds  fifty  \\\n",
       "24    Albie Morkel   136.938202           975   712       NaN    3.0   \n",
       "33   Andre Russell   164.000000           574   350       NaN    3.0   \n",
       "38  Angelo Mathews   120.868114           724   599       NaN    1.0   \n",
       "57      Axar Patel   122.672065           606   494       NaN    NaN   \n",
       "59   Azhar Mahmood   124.758842           388   311       NaN    2.0   \n",
       "\n",
       "    player_dismissed    average  highest  \n",
       "24              40.0  24.375000       73  \n",
       "33              22.0  26.090909       66  \n",
       "38              31.0  23.354839       65  \n",
       "57              30.0  20.200000       44  \n",
       "59              19.0  20.421053       80  "
      ]
     },
     "execution_count": 53,
     "metadata": {},
     "output_type": "execute_result"
    }
   ],
   "source": [
    "B_batsman.head()"
   ]
  },
  {
   "cell_type": "code",
   "execution_count": 57,
   "metadata": {},
   "outputs": [],
   "source": [
    "#hitter/finisher or n0. 5 /6 batsman.\n",
    "C_batsman = batsman[((batsman['strike_rate']>=140)&((batsman['average']<=22)))&(batsman['batsman_runs']>=100)]     "
   ]
  },
  {
   "cell_type": "code",
   "execution_count": 58,
   "metadata": {},
   "outputs": [
    {
     "data": {
      "text/html": [
       "<div>\n",
       "<style>\n",
       "    .dataframe thead tr:only-child th {\n",
       "        text-align: right;\n",
       "    }\n",
       "\n",
       "    .dataframe thead th {\n",
       "        text-align: left;\n",
       "    }\n",
       "\n",
       "    .dataframe tbody tr th {\n",
       "        vertical-align: top;\n",
       "    }\n",
       "</style>\n",
       "<table border=\"1\" class=\"dataframe\">\n",
       "  <thead>\n",
       "    <tr style=\"text-align: right;\">\n",
       "      <th></th>\n",
       "      <th>batsman</th>\n",
       "      <th>strike_rate</th>\n",
       "      <th>batsman_runs</th>\n",
       "      <th>ball</th>\n",
       "      <th>hundreds</th>\n",
       "      <th>fifty</th>\n",
       "      <th>player_dismissed</th>\n",
       "      <th>average</th>\n",
       "      <th>highest</th>\n",
       "    </tr>\n",
       "  </thead>\n",
       "  <tbody>\n",
       "    <tr>\n",
       "      <th>53</th>\n",
       "      <td>Ashish Reddy</td>\n",
       "      <td>142.857143</td>\n",
       "      <td>280</td>\n",
       "      <td>196</td>\n",
       "      <td>NaN</td>\n",
       "      <td>NaN</td>\n",
       "      <td>15.0</td>\n",
       "      <td>18.666667</td>\n",
       "      <td>36</td>\n",
       "    </tr>\n",
       "    <tr>\n",
       "      <th>139</th>\n",
       "      <td>Farveez Maharoof</td>\n",
       "      <td>142.741935</td>\n",
       "      <td>177</td>\n",
       "      <td>124</td>\n",
       "      <td>NaN</td>\n",
       "      <td>NaN</td>\n",
       "      <td>10.0</td>\n",
       "      <td>17.700000</td>\n",
       "      <td>39</td>\n",
       "    </tr>\n",
       "    <tr>\n",
       "      <th>205</th>\n",
       "      <td>Kevon Cooper</td>\n",
       "      <td>165.714286</td>\n",
       "      <td>116</td>\n",
       "      <td>70</td>\n",
       "      <td>NaN</td>\n",
       "      <td>NaN</td>\n",
       "      <td>9.0</td>\n",
       "      <td>12.888889</td>\n",
       "      <td>32</td>\n",
       "    </tr>\n",
       "    <tr>\n",
       "      <th>222</th>\n",
       "      <td>Luke Wright</td>\n",
       "      <td>168.253968</td>\n",
       "      <td>106</td>\n",
       "      <td>63</td>\n",
       "      <td>NaN</td>\n",
       "      <td>NaN</td>\n",
       "      <td>5.0</td>\n",
       "      <td>21.200000</td>\n",
       "      <td>44</td>\n",
       "    </tr>\n",
       "    <tr>\n",
       "      <th>247</th>\n",
       "      <td>Misbah-ul-Haq</td>\n",
       "      <td>142.682927</td>\n",
       "      <td>117</td>\n",
       "      <td>82</td>\n",
       "      <td>NaN</td>\n",
       "      <td>NaN</td>\n",
       "      <td>7.0</td>\n",
       "      <td>16.714286</td>\n",
       "      <td>47</td>\n",
       "    </tr>\n",
       "  </tbody>\n",
       "</table>\n",
       "</div>"
      ],
      "text/plain": [
       "              batsman  strike_rate  batsman_runs  ball  hundreds  fifty  \\\n",
       "53       Ashish Reddy   142.857143           280   196       NaN    NaN   \n",
       "139  Farveez Maharoof   142.741935           177   124       NaN    NaN   \n",
       "205      Kevon Cooper   165.714286           116    70       NaN    NaN   \n",
       "222       Luke Wright   168.253968           106    63       NaN    NaN   \n",
       "247     Misbah-ul-Haq   142.682927           117    82       NaN    NaN   \n",
       "\n",
       "     player_dismissed    average  highest  \n",
       "53               15.0  18.666667       36  \n",
       "139              10.0  17.700000       39  \n",
       "205               9.0  12.888889       32  \n",
       "222               5.0  21.200000       44  \n",
       "247               7.0  16.714286       47  "
      ]
     },
     "execution_count": 58,
     "metadata": {},
     "output_type": "execute_result"
    }
   ],
   "source": [
    "C_batsman.head()"
   ]
  },
  {
   "cell_type": "markdown",
   "metadata": {},
   "source": [
    "## Bowling analysis."
   ]
  },
  {
   "cell_type": "code",
   "execution_count": 59,
   "metadata": {
    "collapsed": true
   },
   "outputs": [],
   "source": [
    "runs = ball.groupby(['bowler'])['total_runs'].sum().reset_index()"
   ]
  },
  {
   "cell_type": "code",
   "execution_count": 60,
   "metadata": {},
   "outputs": [
    {
     "data": {
      "text/html": [
       "<div>\n",
       "<style>\n",
       "    .dataframe thead tr:only-child th {\n",
       "        text-align: right;\n",
       "    }\n",
       "\n",
       "    .dataframe thead th {\n",
       "        text-align: left;\n",
       "    }\n",
       "\n",
       "    .dataframe tbody tr th {\n",
       "        vertical-align: top;\n",
       "    }\n",
       "</style>\n",
       "<table border=\"1\" class=\"dataframe\">\n",
       "  <thead>\n",
       "    <tr style=\"text-align: right;\">\n",
       "      <th></th>\n",
       "      <th>bowler</th>\n",
       "      <th>player_dismissed</th>\n",
       "    </tr>\n",
       "  </thead>\n",
       "  <tbody>\n",
       "    <tr>\n",
       "      <th>0</th>\n",
       "      <td>Aaron Finch</td>\n",
       "      <td>1</td>\n",
       "    </tr>\n",
       "    <tr>\n",
       "      <th>1</th>\n",
       "      <td>Aavishkar Salvi</td>\n",
       "      <td>7</td>\n",
       "    </tr>\n",
       "    <tr>\n",
       "      <th>2</th>\n",
       "      <td>Abdur Razzak</td>\n",
       "      <td>0</td>\n",
       "    </tr>\n",
       "    <tr>\n",
       "      <th>3</th>\n",
       "      <td>Abhimanyu Mithun</td>\n",
       "      <td>7</td>\n",
       "    </tr>\n",
       "    <tr>\n",
       "      <th>4</th>\n",
       "      <td>Abhishek Jhunjhunwala</td>\n",
       "      <td>1</td>\n",
       "    </tr>\n",
       "  </tbody>\n",
       "</table>\n",
       "</div>"
      ],
      "text/plain": [
       "                  bowler  player_dismissed\n",
       "0            Aaron Finch                 1\n",
       "1        Aavishkar Salvi                 7\n",
       "2           Abdur Razzak                 0\n",
       "3       Abhimanyu Mithun                 7\n",
       "4  Abhishek Jhunjhunwala                 1"
      ]
     },
     "execution_count": 60,
     "metadata": {},
     "output_type": "execute_result"
    }
   ],
   "source": [
    "wicket = ball[ball['dismissal_kind'] != 'run out'].groupby(['bowler'])['player_dismissed'].count().reset_index()\n",
    "wicket.head()"
   ]
  },
  {
   "cell_type": "code",
   "execution_count": 61,
   "metadata": {},
   "outputs": [
    {
     "data": {
      "text/html": [
       "<div>\n",
       "<style>\n",
       "    .dataframe thead tr:only-child th {\n",
       "        text-align: right;\n",
       "    }\n",
       "\n",
       "    .dataframe thead th {\n",
       "        text-align: left;\n",
       "    }\n",
       "\n",
       "    .dataframe tbody tr th {\n",
       "        vertical-align: top;\n",
       "    }\n",
       "</style>\n",
       "<table border=\"1\" class=\"dataframe\">\n",
       "  <thead>\n",
       "    <tr style=\"text-align: right;\">\n",
       "      <th></th>\n",
       "      <th>bowler</th>\n",
       "      <th>balls</th>\n",
       "    </tr>\n",
       "  </thead>\n",
       "  <tbody>\n",
       "    <tr>\n",
       "      <th>0</th>\n",
       "      <td>Harbhajan Singh</td>\n",
       "      <td>2989</td>\n",
       "    </tr>\n",
       "    <tr>\n",
       "      <th>1</th>\n",
       "      <td>Amit Mishra</td>\n",
       "      <td>2703</td>\n",
       "    </tr>\n",
       "    <tr>\n",
       "      <th>2</th>\n",
       "      <td>Lasith Malinga</td>\n",
       "      <td>2694</td>\n",
       "    </tr>\n",
       "    <tr>\n",
       "      <th>3</th>\n",
       "      <td>Praveen Kumar</td>\n",
       "      <td>2637</td>\n",
       "    </tr>\n",
       "    <tr>\n",
       "      <th>4</th>\n",
       "      <td>Piyush Chawla</td>\n",
       "      <td>2594</td>\n",
       "    </tr>\n",
       "  </tbody>\n",
       "</table>\n",
       "</div>"
      ],
      "text/plain": [
       "            bowler  balls\n",
       "0  Harbhajan Singh   2989\n",
       "1      Amit Mishra   2703\n",
       "2   Lasith Malinga   2694\n",
       "3    Praveen Kumar   2637\n",
       "4    Piyush Chawla   2594"
      ]
     },
     "execution_count": 61,
     "metadata": {},
     "output_type": "execute_result"
    }
   ],
   "source": [
    "ballas = ball['bowler'].value_counts().reset_index()\n",
    "ballas =ballas.rename(columns={'index': 'bowler','bowler':'balls'})\n",
    "ballas.head()"
   ]
  },
  {
   "cell_type": "code",
   "execution_count": 62,
   "metadata": {
    "collapsed": true
   },
   "outputs": [],
   "source": [
    "bowlers = pd.merge(ballas, wicket, on='bowler')"
   ]
  },
  {
   "cell_type": "code",
   "execution_count": 63,
   "metadata": {
    "collapsed": true
   },
   "outputs": [],
   "source": [
    "bowler = pd.merge(bowlers,runs,on='bowler')"
   ]
  },
  {
   "cell_type": "code",
   "execution_count": 64,
   "metadata": {},
   "outputs": [],
   "source": [
    "bowler['eco'] = bowler['total_runs']/bowler['balls']*6\n",
    "bowler['bowling_average'] =  bowler['total_runs']/bowler['player_dismissed']\n",
    "bowler['wicket_rate'] =  bowler['balls']/bowler['player_dismissed']\n"
   ]
  },
  {
   "cell_type": "code",
   "execution_count": 65,
   "metadata": {},
   "outputs": [],
   "source": [
    "bowler = bowler.rename(columns={'player_dismissed': 'wickets','total_runs':'runs_consided'})"
   ]
  },
  {
   "cell_type": "code",
   "execution_count": 66,
   "metadata": {},
   "outputs": [
    {
     "data": {
      "text/html": [
       "<div>\n",
       "<style>\n",
       "    .dataframe thead tr:only-child th {\n",
       "        text-align: right;\n",
       "    }\n",
       "\n",
       "    .dataframe thead th {\n",
       "        text-align: left;\n",
       "    }\n",
       "\n",
       "    .dataframe tbody tr th {\n",
       "        vertical-align: top;\n",
       "    }\n",
       "</style>\n",
       "<table border=\"1\" class=\"dataframe\">\n",
       "  <thead>\n",
       "    <tr style=\"text-align: right;\">\n",
       "      <th></th>\n",
       "      <th>bowler</th>\n",
       "      <th>balls</th>\n",
       "      <th>wickets</th>\n",
       "      <th>runs_consided</th>\n",
       "      <th>eco</th>\n",
       "      <th>bowling_average</th>\n",
       "      <th>wicket_rate</th>\n",
       "    </tr>\n",
       "  </thead>\n",
       "  <tbody>\n",
       "    <tr>\n",
       "      <th>0</th>\n",
       "      <td>Harbhajan Singh</td>\n",
       "      <td>2989</td>\n",
       "      <td>127</td>\n",
       "      <td>3453</td>\n",
       "      <td>6.931415</td>\n",
       "      <td>27.188976</td>\n",
       "      <td>23.535433</td>\n",
       "    </tr>\n",
       "    <tr>\n",
       "      <th>1</th>\n",
       "      <td>Amit Mishra</td>\n",
       "      <td>2703</td>\n",
       "      <td>134</td>\n",
       "      <td>3305</td>\n",
       "      <td>7.336293</td>\n",
       "      <td>24.664179</td>\n",
       "      <td>20.171642</td>\n",
       "    </tr>\n",
       "    <tr>\n",
       "      <th>2</th>\n",
       "      <td>Lasith Malinga</td>\n",
       "      <td>2694</td>\n",
       "      <td>154</td>\n",
       "      <td>3034</td>\n",
       "      <td>6.757238</td>\n",
       "      <td>19.701299</td>\n",
       "      <td>17.493506</td>\n",
       "    </tr>\n",
       "    <tr>\n",
       "      <th>3</th>\n",
       "      <td>Praveen Kumar</td>\n",
       "      <td>2637</td>\n",
       "      <td>90</td>\n",
       "      <td>3342</td>\n",
       "      <td>7.604096</td>\n",
       "      <td>37.133333</td>\n",
       "      <td>29.300000</td>\n",
       "    </tr>\n",
       "    <tr>\n",
       "      <th>4</th>\n",
       "      <td>Piyush Chawla</td>\n",
       "      <td>2594</td>\n",
       "      <td>126</td>\n",
       "      <td>3315</td>\n",
       "      <td>7.667695</td>\n",
       "      <td>26.309524</td>\n",
       "      <td>20.587302</td>\n",
       "    </tr>\n",
       "  </tbody>\n",
       "</table>\n",
       "</div>"
      ],
      "text/plain": [
       "            bowler  balls  wickets  runs_consided       eco  bowling_average  \\\n",
       "0  Harbhajan Singh   2989      127           3453  6.931415        27.188976   \n",
       "1      Amit Mishra   2703      134           3305  7.336293        24.664179   \n",
       "2   Lasith Malinga   2694      154           3034  6.757238        19.701299   \n",
       "3    Praveen Kumar   2637       90           3342  7.604096        37.133333   \n",
       "4    Piyush Chawla   2594      126           3315  7.667695        26.309524   \n",
       "\n",
       "   wicket_rate  \n",
       "0    23.535433  \n",
       "1    20.171642  \n",
       "2    17.493506  \n",
       "3    29.300000  \n",
       "4    20.587302  "
      ]
     },
     "execution_count": 66,
     "metadata": {},
     "output_type": "execute_result"
    }
   ],
   "source": [
    "bowler.head()"
   ]
  },
  {
   "cell_type": "code",
   "execution_count": 79,
   "metadata": {},
   "outputs": [],
   "source": [
    "A_bowler = bowler[((bowler['bowling_average']<= 28)&(bowler['eco']<=8))&(bowler['balls']>=100)]"
   ]
  },
  {
   "cell_type": "code",
   "execution_count": 80,
   "metadata": {},
   "outputs": [
    {
     "data": {
      "text/html": [
       "<div>\n",
       "<style>\n",
       "    .dataframe thead tr:only-child th {\n",
       "        text-align: right;\n",
       "    }\n",
       "\n",
       "    .dataframe thead th {\n",
       "        text-align: left;\n",
       "    }\n",
       "\n",
       "    .dataframe tbody tr th {\n",
       "        vertical-align: top;\n",
       "    }\n",
       "</style>\n",
       "<table border=\"1\" class=\"dataframe\">\n",
       "  <thead>\n",
       "    <tr style=\"text-align: right;\">\n",
       "      <th></th>\n",
       "      <th>bowler</th>\n",
       "      <th>balls</th>\n",
       "      <th>wickets</th>\n",
       "      <th>runs_consided</th>\n",
       "      <th>eco</th>\n",
       "      <th>bowling_average</th>\n",
       "      <th>wicket_rate</th>\n",
       "    </tr>\n",
       "  </thead>\n",
       "  <tbody>\n",
       "    <tr>\n",
       "      <th>0</th>\n",
       "      <td>Harbhajan Singh</td>\n",
       "      <td>2989</td>\n",
       "      <td>127</td>\n",
       "      <td>3453</td>\n",
       "      <td>6.931415</td>\n",
       "      <td>27.188976</td>\n",
       "      <td>23.535433</td>\n",
       "    </tr>\n",
       "    <tr>\n",
       "      <th>1</th>\n",
       "      <td>Amit Mishra</td>\n",
       "      <td>2703</td>\n",
       "      <td>134</td>\n",
       "      <td>3305</td>\n",
       "      <td>7.336293</td>\n",
       "      <td>24.664179</td>\n",
       "      <td>20.171642</td>\n",
       "    </tr>\n",
       "    <tr>\n",
       "      <th>2</th>\n",
       "      <td>Lasith Malinga</td>\n",
       "      <td>2694</td>\n",
       "      <td>154</td>\n",
       "      <td>3034</td>\n",
       "      <td>6.757238</td>\n",
       "      <td>19.701299</td>\n",
       "      <td>17.493506</td>\n",
       "    </tr>\n",
       "    <tr>\n",
       "      <th>4</th>\n",
       "      <td>Piyush Chawla</td>\n",
       "      <td>2594</td>\n",
       "      <td>126</td>\n",
       "      <td>3315</td>\n",
       "      <td>7.667695</td>\n",
       "      <td>26.309524</td>\n",
       "      <td>20.587302</td>\n",
       "    </tr>\n",
       "    <tr>\n",
       "      <th>5</th>\n",
       "      <td>Ravichandran Ashwin</td>\n",
       "      <td>2359</td>\n",
       "      <td>100</td>\n",
       "      <td>2552</td>\n",
       "      <td>6.490886</td>\n",
       "      <td>25.520000</td>\n",
       "      <td>23.590000</td>\n",
       "    </tr>\n",
       "  </tbody>\n",
       "</table>\n",
       "</div>"
      ],
      "text/plain": [
       "                bowler  balls  wickets  runs_consided       eco  \\\n",
       "0      Harbhajan Singh   2989      127           3453  6.931415   \n",
       "1          Amit Mishra   2703      134           3305  7.336293   \n",
       "2       Lasith Malinga   2694      154           3034  6.757238   \n",
       "4        Piyush Chawla   2594      126           3315  7.667695   \n",
       "5  Ravichandran Ashwin   2359      100           2552  6.490886   \n",
       "\n",
       "   bowling_average  wicket_rate  \n",
       "0        27.188976    23.535433  \n",
       "1        24.664179    20.171642  \n",
       "2        19.701299    17.493506  \n",
       "4        26.309524    20.587302  \n",
       "5        25.520000    23.590000  "
      ]
     },
     "execution_count": 80,
     "metadata": {},
     "output_type": "execute_result"
    }
   ],
   "source": [
    "#A class bowler.\n",
    "A_bowler.head()"
   ]
  },
  {
   "cell_type": "code",
   "execution_count": 83,
   "metadata": {},
   "outputs": [],
   "source": [
    "B_bowler = bowler[((bowler['bowling_average']>= 28)&(bowler['bowling_average']<= 35))&(bowler['balls']>=100)]"
   ]
  },
  {
   "cell_type": "code",
   "execution_count": 84,
   "metadata": {},
   "outputs": [
    {
     "data": {
      "text/html": [
       "<div>\n",
       "<style>\n",
       "    .dataframe thead tr:only-child th {\n",
       "        text-align: right;\n",
       "    }\n",
       "\n",
       "    .dataframe thead th {\n",
       "        text-align: left;\n",
       "    }\n",
       "\n",
       "    .dataframe tbody tr th {\n",
       "        vertical-align: top;\n",
       "    }\n",
       "</style>\n",
       "<table border=\"1\" class=\"dataframe\">\n",
       "  <thead>\n",
       "    <tr style=\"text-align: right;\">\n",
       "      <th></th>\n",
       "      <th>bowler</th>\n",
       "      <th>balls</th>\n",
       "      <th>wickets</th>\n",
       "      <th>runs_consided</th>\n",
       "      <th>eco</th>\n",
       "      <th>bowling_average</th>\n",
       "      <th>wicket_rate</th>\n",
       "    </tr>\n",
       "  </thead>\n",
       "  <tbody>\n",
       "    <tr>\n",
       "      <th>7</th>\n",
       "      <td>Vinay Kumar</td>\n",
       "      <td>2161</td>\n",
       "      <td>103</td>\n",
       "      <td>2976</td>\n",
       "      <td>8.262841</td>\n",
       "      <td>28.893204</td>\n",
       "      <td>20.980583</td>\n",
       "    </tr>\n",
       "    <tr>\n",
       "      <th>9</th>\n",
       "      <td>Irfan Pathan</td>\n",
       "      <td>2113</td>\n",
       "      <td>80</td>\n",
       "      <td>2711</td>\n",
       "      <td>7.698060</td>\n",
       "      <td>33.887500</td>\n",
       "      <td>26.412500</td>\n",
       "    </tr>\n",
       "    <tr>\n",
       "      <th>12</th>\n",
       "      <td>Umesh Yadav</td>\n",
       "      <td>2033</td>\n",
       "      <td>91</td>\n",
       "      <td>2802</td>\n",
       "      <td>8.269552</td>\n",
       "      <td>30.791209</td>\n",
       "      <td>22.340659</td>\n",
       "    </tr>\n",
       "    <tr>\n",
       "      <th>14</th>\n",
       "      <td>Ravindra Jadeja</td>\n",
       "      <td>1962</td>\n",
       "      <td>82</td>\n",
       "      <td>2540</td>\n",
       "      <td>7.767584</td>\n",
       "      <td>30.975610</td>\n",
       "      <td>23.926829</td>\n",
       "    </tr>\n",
       "    <tr>\n",
       "      <th>15</th>\n",
       "      <td>Shane Watson</td>\n",
       "      <td>1961</td>\n",
       "      <td>86</td>\n",
       "      <td>2490</td>\n",
       "      <td>7.618562</td>\n",
       "      <td>28.953488</td>\n",
       "      <td>22.802326</td>\n",
       "    </tr>\n",
       "  </tbody>\n",
       "</table>\n",
       "</div>"
      ],
      "text/plain": [
       "             bowler  balls  wickets  runs_consided       eco  bowling_average  \\\n",
       "7       Vinay Kumar   2161      103           2976  8.262841        28.893204   \n",
       "9      Irfan Pathan   2113       80           2711  7.698060        33.887500   \n",
       "12      Umesh Yadav   2033       91           2802  8.269552        30.791209   \n",
       "14  Ravindra Jadeja   1962       82           2540  7.767584        30.975610   \n",
       "15     Shane Watson   1961       86           2490  7.618562        28.953488   \n",
       "\n",
       "    wicket_rate  \n",
       "7     20.980583  \n",
       "9     26.412500  \n",
       "12    22.340659  \n",
       "14    23.926829  \n",
       "15    22.802326  "
      ]
     },
     "execution_count": 84,
     "metadata": {},
     "output_type": "execute_result"
    }
   ],
   "source": [
    "#B class bowler.\n",
    "B_bowler.head()"
   ]
  },
  {
   "cell_type": "markdown",
   "metadata": {},
   "source": [
    "similerly we can find economical bowler, opening wicket taker bowler."
   ]
  },
  {
   "cell_type": "markdown",
   "metadata": {},
   "source": [
    "## player analysis."
   ]
  },
  {
   "cell_type": "code",
   "execution_count": 85,
   "metadata": {
    "collapsed": true
   },
   "outputs": [],
   "source": [
    "batsman_ = batsman.rename(columns={'batsman': 'bowler'})"
   ]
  },
  {
   "cell_type": "code",
   "execution_count": 86,
   "metadata": {
    "collapsed": true
   },
   "outputs": [],
   "source": [
    "player = pd.merge(bowler,batsman_,on='bowler', how='outer')"
   ]
  },
  {
   "cell_type": "code",
   "execution_count": 88,
   "metadata": {},
   "outputs": [
    {
     "data": {
      "text/html": [
       "<div>\n",
       "<style>\n",
       "    .dataframe thead tr:only-child th {\n",
       "        text-align: right;\n",
       "    }\n",
       "\n",
       "    .dataframe thead th {\n",
       "        text-align: left;\n",
       "    }\n",
       "\n",
       "    .dataframe tbody tr th {\n",
       "        vertical-align: top;\n",
       "    }\n",
       "</style>\n",
       "<table border=\"1\" class=\"dataframe\">\n",
       "  <thead>\n",
       "    <tr style=\"text-align: right;\">\n",
       "      <th></th>\n",
       "      <th>bowler</th>\n",
       "      <th>balls</th>\n",
       "      <th>wickets</th>\n",
       "      <th>runs_consided</th>\n",
       "      <th>eco</th>\n",
       "      <th>bowling_average</th>\n",
       "      <th>wicket_rate</th>\n",
       "      <th>strike_rate</th>\n",
       "      <th>batsman_runs</th>\n",
       "      <th>ball</th>\n",
       "      <th>hundreds</th>\n",
       "      <th>fifty</th>\n",
       "      <th>player_dismissed</th>\n",
       "      <th>average</th>\n",
       "      <th>highest</th>\n",
       "    </tr>\n",
       "  </thead>\n",
       "  <tbody>\n",
       "    <tr>\n",
       "      <th>0</th>\n",
       "      <td>Harbhajan Singh</td>\n",
       "      <td>2989.0</td>\n",
       "      <td>127.0</td>\n",
       "      <td>3453.0</td>\n",
       "      <td>6.931415</td>\n",
       "      <td>27.188976</td>\n",
       "      <td>23.535433</td>\n",
       "      <td>135.194585</td>\n",
       "      <td>799.0</td>\n",
       "      <td>591.0</td>\n",
       "      <td>NaN</td>\n",
       "      <td>1.0</td>\n",
       "      <td>51.0</td>\n",
       "      <td>15.666667</td>\n",
       "      <td>64.0</td>\n",
       "    </tr>\n",
       "    <tr>\n",
       "      <th>1</th>\n",
       "      <td>Amit Mishra</td>\n",
       "      <td>2703.0</td>\n",
       "      <td>134.0</td>\n",
       "      <td>3305.0</td>\n",
       "      <td>7.336293</td>\n",
       "      <td>24.664179</td>\n",
       "      <td>20.171642</td>\n",
       "      <td>89.005236</td>\n",
       "      <td>340.0</td>\n",
       "      <td>382.0</td>\n",
       "      <td>NaN</td>\n",
       "      <td>NaN</td>\n",
       "      <td>29.0</td>\n",
       "      <td>11.724138</td>\n",
       "      <td>31.0</td>\n",
       "    </tr>\n",
       "    <tr>\n",
       "      <th>2</th>\n",
       "      <td>Lasith Malinga</td>\n",
       "      <td>2694.0</td>\n",
       "      <td>154.0</td>\n",
       "      <td>3034.0</td>\n",
       "      <td>6.757238</td>\n",
       "      <td>19.701299</td>\n",
       "      <td>17.493506</td>\n",
       "      <td>85.436893</td>\n",
       "      <td>88.0</td>\n",
       "      <td>103.0</td>\n",
       "      <td>NaN</td>\n",
       "      <td>NaN</td>\n",
       "      <td>16.0</td>\n",
       "      <td>5.500000</td>\n",
       "      <td>17.0</td>\n",
       "    </tr>\n",
       "    <tr>\n",
       "      <th>3</th>\n",
       "      <td>Praveen Kumar</td>\n",
       "      <td>2637.0</td>\n",
       "      <td>90.0</td>\n",
       "      <td>3342.0</td>\n",
       "      <td>7.604096</td>\n",
       "      <td>37.133333</td>\n",
       "      <td>29.300000</td>\n",
       "      <td>105.263158</td>\n",
       "      <td>340.0</td>\n",
       "      <td>323.0</td>\n",
       "      <td>NaN</td>\n",
       "      <td>NaN</td>\n",
       "      <td>38.0</td>\n",
       "      <td>8.947368</td>\n",
       "      <td>34.0</td>\n",
       "    </tr>\n",
       "    <tr>\n",
       "      <th>4</th>\n",
       "      <td>Piyush Chawla</td>\n",
       "      <td>2594.0</td>\n",
       "      <td>126.0</td>\n",
       "      <td>3315.0</td>\n",
       "      <td>7.667695</td>\n",
       "      <td>26.309524</td>\n",
       "      <td>20.587302</td>\n",
       "      <td>110.278373</td>\n",
       "      <td>515.0</td>\n",
       "      <td>467.0</td>\n",
       "      <td>NaN</td>\n",
       "      <td>NaN</td>\n",
       "      <td>42.0</td>\n",
       "      <td>12.261905</td>\n",
       "      <td>24.0</td>\n",
       "    </tr>\n",
       "  </tbody>\n",
       "</table>\n",
       "</div>"
      ],
      "text/plain": [
       "            bowler   balls  wickets  runs_consided       eco  bowling_average  \\\n",
       "0  Harbhajan Singh  2989.0    127.0         3453.0  6.931415        27.188976   \n",
       "1      Amit Mishra  2703.0    134.0         3305.0  7.336293        24.664179   \n",
       "2   Lasith Malinga  2694.0    154.0         3034.0  6.757238        19.701299   \n",
       "3    Praveen Kumar  2637.0     90.0         3342.0  7.604096        37.133333   \n",
       "4    Piyush Chawla  2594.0    126.0         3315.0  7.667695        26.309524   \n",
       "\n",
       "   wicket_rate  strike_rate  batsman_runs   ball  hundreds  fifty  \\\n",
       "0    23.535433   135.194585         799.0  591.0       NaN    1.0   \n",
       "1    20.171642    89.005236         340.0  382.0       NaN    NaN   \n",
       "2    17.493506    85.436893          88.0  103.0       NaN    NaN   \n",
       "3    29.300000   105.263158         340.0  323.0       NaN    NaN   \n",
       "4    20.587302   110.278373         515.0  467.0       NaN    NaN   \n",
       "\n",
       "   player_dismissed    average  highest  \n",
       "0              51.0  15.666667     64.0  \n",
       "1              29.0  11.724138     31.0  \n",
       "2              16.0   5.500000     17.0  \n",
       "3              38.0   8.947368     34.0  \n",
       "4              42.0  12.261905     24.0  "
      ]
     },
     "execution_count": 88,
     "metadata": {},
     "output_type": "execute_result"
    }
   ],
   "source": [
    "#stat of every player in ipl.\n",
    "player.head()"
   ]
  },
  {
   "cell_type": "markdown",
   "metadata": {
    "collapsed": true
   },
   "source": [
    "#### ALL ROUNDER"
   ]
  },
  {
   "cell_type": "code",
   "execution_count": 94,
   "metadata": {
    "collapsed": true
   },
   "outputs": [],
   "source": [
    "ALLR = player[(player['batsman_runs']>=600)&(player['balls']>=300)]"
   ]
  },
  {
   "cell_type": "code",
   "execution_count": 95,
   "metadata": {},
   "outputs": [
    {
     "data": {
      "text/html": [
       "<div>\n",
       "<style>\n",
       "    .dataframe thead tr:only-child th {\n",
       "        text-align: right;\n",
       "    }\n",
       "\n",
       "    .dataframe thead th {\n",
       "        text-align: left;\n",
       "    }\n",
       "\n",
       "    .dataframe tbody tr th {\n",
       "        vertical-align: top;\n",
       "    }\n",
       "</style>\n",
       "<table border=\"1\" class=\"dataframe\">\n",
       "  <thead>\n",
       "    <tr style=\"text-align: right;\">\n",
       "      <th></th>\n",
       "      <th>bowler</th>\n",
       "      <th>balls</th>\n",
       "      <th>wickets</th>\n",
       "      <th>runs_consided</th>\n",
       "      <th>eco</th>\n",
       "      <th>bowling_average</th>\n",
       "      <th>wicket_rate</th>\n",
       "      <th>strike_rate</th>\n",
       "      <th>batsman_runs</th>\n",
       "      <th>ball</th>\n",
       "      <th>hundreds</th>\n",
       "      <th>fifty</th>\n",
       "      <th>player_dismissed</th>\n",
       "      <th>average</th>\n",
       "      <th>highest</th>\n",
       "    </tr>\n",
       "  </thead>\n",
       "  <tbody>\n",
       "    <tr>\n",
       "      <th>0</th>\n",
       "      <td>Harbhajan Singh</td>\n",
       "      <td>2989.0</td>\n",
       "      <td>127.0</td>\n",
       "      <td>3453.0</td>\n",
       "      <td>6.931415</td>\n",
       "      <td>27.188976</td>\n",
       "      <td>23.535433</td>\n",
       "      <td>135.194585</td>\n",
       "      <td>799.0</td>\n",
       "      <td>591.0</td>\n",
       "      <td>NaN</td>\n",
       "      <td>1.0</td>\n",
       "      <td>51.0</td>\n",
       "      <td>15.666667</td>\n",
       "      <td>64.0</td>\n",
       "    </tr>\n",
       "    <tr>\n",
       "      <th>9</th>\n",
       "      <td>Irfan Pathan</td>\n",
       "      <td>2113.0</td>\n",
       "      <td>80.0</td>\n",
       "      <td>2711.0</td>\n",
       "      <td>7.698060</td>\n",
       "      <td>33.887500</td>\n",
       "      <td>26.412500</td>\n",
       "      <td>116.751269</td>\n",
       "      <td>1150.0</td>\n",
       "      <td>985.0</td>\n",
       "      <td>NaN</td>\n",
       "      <td>1.0</td>\n",
       "      <td>53.0</td>\n",
       "      <td>21.698113</td>\n",
       "      <td>60.0</td>\n",
       "    </tr>\n",
       "    <tr>\n",
       "      <th>10</th>\n",
       "      <td>Dwayne Bravo</td>\n",
       "      <td>2110.0</td>\n",
       "      <td>122.0</td>\n",
       "      <td>2815.0</td>\n",
       "      <td>8.004739</td>\n",
       "      <td>23.073770</td>\n",
       "      <td>17.295082</td>\n",
       "      <td>122.286822</td>\n",
       "      <td>1262.0</td>\n",
       "      <td>1032.0</td>\n",
       "      <td>NaN</td>\n",
       "      <td>4.0</td>\n",
       "      <td>55.0</td>\n",
       "      <td>22.945455</td>\n",
       "      <td>70.0</td>\n",
       "    </tr>\n",
       "    <tr>\n",
       "      <th>14</th>\n",
       "      <td>Ravindra Jadeja</td>\n",
       "      <td>1962.0</td>\n",
       "      <td>82.0</td>\n",
       "      <td>2540.0</td>\n",
       "      <td>7.767584</td>\n",
       "      <td>30.975610</td>\n",
       "      <td>23.926829</td>\n",
       "      <td>118.792867</td>\n",
       "      <td>1732.0</td>\n",
       "      <td>1458.0</td>\n",
       "      <td>NaN</td>\n",
       "      <td>NaN</td>\n",
       "      <td>72.0</td>\n",
       "      <td>24.055556</td>\n",
       "      <td>48.0</td>\n",
       "    </tr>\n",
       "    <tr>\n",
       "      <th>15</th>\n",
       "      <td>Shane Watson</td>\n",
       "      <td>1961.0</td>\n",
       "      <td>86.0</td>\n",
       "      <td>2490.0</td>\n",
       "      <td>7.618562</td>\n",
       "      <td>28.953488</td>\n",
       "      <td>22.802326</td>\n",
       "      <td>134.838379</td>\n",
       "      <td>2628.0</td>\n",
       "      <td>1949.0</td>\n",
       "      <td>2.0</td>\n",
       "      <td>14.0</td>\n",
       "      <td>85.0</td>\n",
       "      <td>30.917647</td>\n",
       "      <td>104.0</td>\n",
       "    </tr>\n",
       "  </tbody>\n",
       "</table>\n",
       "</div>"
      ],
      "text/plain": [
       "             bowler   balls  wickets  runs_consided       eco  \\\n",
       "0   Harbhajan Singh  2989.0    127.0         3453.0  6.931415   \n",
       "9      Irfan Pathan  2113.0     80.0         2711.0  7.698060   \n",
       "10     Dwayne Bravo  2110.0    122.0         2815.0  8.004739   \n",
       "14  Ravindra Jadeja  1962.0     82.0         2540.0  7.767584   \n",
       "15     Shane Watson  1961.0     86.0         2490.0  7.618562   \n",
       "\n",
       "    bowling_average  wicket_rate  strike_rate  batsman_runs    ball  hundreds  \\\n",
       "0         27.188976    23.535433   135.194585         799.0   591.0       NaN   \n",
       "9         33.887500    26.412500   116.751269        1150.0   985.0       NaN   \n",
       "10        23.073770    17.295082   122.286822        1262.0  1032.0       NaN   \n",
       "14        30.975610    23.926829   118.792867        1732.0  1458.0       NaN   \n",
       "15        28.953488    22.802326   134.838379        2628.0  1949.0       2.0   \n",
       "\n",
       "    fifty  player_dismissed    average  highest  \n",
       "0     1.0              51.0  15.666667     64.0  \n",
       "9     1.0              53.0  21.698113     60.0  \n",
       "10    4.0              55.0  22.945455     70.0  \n",
       "14    NaN              72.0  24.055556     48.0  \n",
       "15   14.0              85.0  30.917647    104.0  "
      ]
     },
     "execution_count": 95,
     "metadata": {},
     "output_type": "execute_result"
    }
   ],
   "source": [
    "ALLR.head()"
   ]
  },
  {
   "cell_type": "code",
   "execution_count": null,
   "metadata": {
    "collapsed": true
   },
   "outputs": [],
   "source": []
  }
 ],
 "metadata": {
  "kernelspec": {
   "display_name": "Python 3",
   "language": "python",
   "name": "python3"
  },
  "language_info": {
   "codemirror_mode": {
    "name": "ipython",
    "version": 3
   },
   "file_extension": ".py",
   "mimetype": "text/x-python",
   "name": "python",
   "nbconvert_exporter": "python",
   "pygments_lexer": "ipython3",
   "version": "3.5.4"
  }
 },
 "nbformat": 4,
 "nbformat_minor": 2
}
